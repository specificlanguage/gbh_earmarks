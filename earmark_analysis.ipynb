{
 "cells": [
  {
   "cell_type": "code",
   "execution_count": 86,
   "metadata": {
    "collapsed": true
   },
   "outputs": [],
   "source": [
    "import pandas as pd\n",
    "import geopandas as gpd\n",
    "import matplotlib.pyplot as plt\n",
    "import numpy as np\n",
    "import re"
   ]
  },
  {
   "cell_type": "code",
   "execution_count": 94,
   "outputs": [
    {
     "data": {
      "text/plain": "                                 Earmark Description  Location  Amount  \\\n0  54th Massachusetts Reenactors and Historical S...    Boston   25000   \n1                 A Street Pier Boat Ramp Rebuilding      Hull  150000   \n2                   Abigail Adams Historical Society  Weymouth   25000   \n3                Abington Housing Authority Upgrades  Abington   85000   \n4                      Abington Utility Task Vehicle  Abington   28000   \n\n                          Administering State Agency  \\\n0          MMP - Massachusetts Marketing Partnership   \n1    DCR - Department Of Conservation And Recreation   \n2  ANF - Executive Office For Administration And ...   \n3   DHCD - Dept Of Housing And Community Development   \n4     HED - Executive Office Of Economic Development   \n\n       State Agency Contact  Account Number  \\\n0   Phyllis.cahaly@mass.gov        70021530   \n1  max.j.tassinari@mass.gov        15992031   \n2     daniel.shark@mass.gov        15992058   \n3       alain.fabo@mass.gov        70049318   \n4   rory.c.ohanlon@mass.gov        15992043   \n\n                                    Earmark Language  \n0  provided further that not less than $25,000 sh...  \n1  provided further, that not less than $150,000 ...  \n2  provided further, that not less than $25,000 s...  \n3  provided further, that not less than $85,000 s...  \n4  provided further, that not less than $28,000 s...  ",
      "text/html": "<div>\n<style scoped>\n    .dataframe tbody tr th:only-of-type {\n        vertical-align: middle;\n    }\n\n    .dataframe tbody tr th {\n        vertical-align: top;\n    }\n\n    .dataframe thead th {\n        text-align: right;\n    }\n</style>\n<table border=\"1\" class=\"dataframe\">\n  <thead>\n    <tr style=\"text-align: right;\">\n      <th></th>\n      <th>Earmark Description</th>\n      <th>Location</th>\n      <th>Amount</th>\n      <th>Administering State Agency</th>\n      <th>State Agency Contact</th>\n      <th>Account Number</th>\n      <th>Earmark Language</th>\n    </tr>\n  </thead>\n  <tbody>\n    <tr>\n      <th>0</th>\n      <td>54th Massachusetts Reenactors and Historical S...</td>\n      <td>Boston</td>\n      <td>25000</td>\n      <td>MMP - Massachusetts Marketing Partnership</td>\n      <td>Phyllis.cahaly@mass.gov</td>\n      <td>70021530</td>\n      <td>provided further that not less than $25,000 sh...</td>\n    </tr>\n    <tr>\n      <th>1</th>\n      <td>A Street Pier Boat Ramp Rebuilding</td>\n      <td>Hull</td>\n      <td>150000</td>\n      <td>DCR - Department Of Conservation And Recreation</td>\n      <td>max.j.tassinari@mass.gov</td>\n      <td>15992031</td>\n      <td>provided further, that not less than $150,000 ...</td>\n    </tr>\n    <tr>\n      <th>2</th>\n      <td>Abigail Adams Historical Society</td>\n      <td>Weymouth</td>\n      <td>25000</td>\n      <td>ANF - Executive Office For Administration And ...</td>\n      <td>daniel.shark@mass.gov</td>\n      <td>15992058</td>\n      <td>provided further, that not less than $25,000 s...</td>\n    </tr>\n    <tr>\n      <th>3</th>\n      <td>Abington Housing Authority Upgrades</td>\n      <td>Abington</td>\n      <td>85000</td>\n      <td>DHCD - Dept Of Housing And Community Development</td>\n      <td>alain.fabo@mass.gov</td>\n      <td>70049318</td>\n      <td>provided further, that not less than $85,000 s...</td>\n    </tr>\n    <tr>\n      <th>4</th>\n      <td>Abington Utility Task Vehicle</td>\n      <td>Abington</td>\n      <td>28000</td>\n      <td>HED - Executive Office Of Economic Development</td>\n      <td>rory.c.ohanlon@mass.gov</td>\n      <td>15992043</td>\n      <td>provided further, that not less than $28,000 s...</td>\n    </tr>\n  </tbody>\n</table>\n</div>"
     },
     "execution_count": 94,
     "metadata": {},
     "output_type": "execute_result"
    }
   ],
   "source": [
    "earmarks = pd.read_csv(\"data/earmarks.csv\")\n",
    "town_shapefiles = gpd.read_file(\"data/town_shapefile.shp\")\n",
    "\n",
    "earmarks.head()"
   ],
   "metadata": {
    "collapsed": false,
    "pycharm": {
     "name": "#%% Data importing\n"
    }
   }
  },
  {
   "cell_type": "code",
   "execution_count": 91,
   "outputs": [
    {
     "data": {
      "text/plain": "              city  population\n0    Massachusetts     7029917\n1         Abington       17062\n2        Acushnet         3030\n3            Adams        5466\n4           Agawam       28692\n..             ...         ...\n244       Winthrop       19316\n245         Woburn       40876\n246     Woods Hole         834\n247      Worcester      206518\n248  Yarmouth Port        5403\n\n[249 rows x 2 columns]",
      "text/html": "<div>\n<style scoped>\n    .dataframe tbody tr th:only-of-type {\n        vertical-align: middle;\n    }\n\n    .dataframe tbody tr th {\n        vertical-align: top;\n    }\n\n    .dataframe thead th {\n        text-align: right;\n    }\n</style>\n<table border=\"1\" class=\"dataframe\">\n  <thead>\n    <tr style=\"text-align: right;\">\n      <th></th>\n      <th>city</th>\n      <th>population</th>\n    </tr>\n  </thead>\n  <tbody>\n    <tr>\n      <th>0</th>\n      <td>Massachusetts</td>\n      <td>7029917</td>\n    </tr>\n    <tr>\n      <th>1</th>\n      <td>Abington</td>\n      <td>17062</td>\n    </tr>\n    <tr>\n      <th>2</th>\n      <td>Acushnet</td>\n      <td>3030</td>\n    </tr>\n    <tr>\n      <th>3</th>\n      <td>Adams</td>\n      <td>5466</td>\n    </tr>\n    <tr>\n      <th>4</th>\n      <td>Agawam</td>\n      <td>28692</td>\n    </tr>\n    <tr>\n      <th>...</th>\n      <td>...</td>\n      <td>...</td>\n    </tr>\n    <tr>\n      <th>244</th>\n      <td>Winthrop</td>\n      <td>19316</td>\n    </tr>\n    <tr>\n      <th>245</th>\n      <td>Woburn</td>\n      <td>40876</td>\n    </tr>\n    <tr>\n      <th>246</th>\n      <td>Woods Hole</td>\n      <td>834</td>\n    </tr>\n    <tr>\n      <th>247</th>\n      <td>Worcester</td>\n      <td>206518</td>\n    </tr>\n    <tr>\n      <th>248</th>\n      <td>Yarmouth Port</td>\n      <td>5403</td>\n    </tr>\n  </tbody>\n</table>\n<p>249 rows × 2 columns</p>\n</div>"
     },
     "execution_count": 91,
     "metadata": {},
     "output_type": "execute_result"
    }
   ],
   "source": [
    "population = pd.read_csv(\"data/ma_census/population.csv\", header=1)\n",
    "population = population.rename(columns={\"Geographic Area Name\": \"city\", \" !!Total:\": \"population\"}, errors=\"raise\")\n",
    "# print(population.head())\n",
    "population = population.loc[:, [\"city\", \"population\"]]\n",
    "\n",
    "new_names = {}\n",
    "for c in population[\"city\"]:\n",
    "    if c == \"Massachusetts\":\n",
    "        new_names[c] = \"Massachusetts\"\n",
    "    else:\n",
    "        new_name = re.sub(r\"(( Town)? (city)|(Center)? (CDP))(, )?Massachusetts$\", \"\", c) # Replaces \"Massachusetts\"\n",
    "        new_names[c] = new_name\n",
    "population = population.replace(new_names)\n",
    "population"
   ],
   "metadata": {
    "collapsed": false,
    "pycharm": {
     "name": "#%% Census data formatting\n"
    }
   }
  },
  {
   "cell_type": "code",
   "execution_count": 22,
   "outputs": [
    {
     "data": {
      "text/plain": "                                   Earmark Description     Location   Amount  \\\n0    54th Massachusetts Reenactors and Historical S...       Boston    25000   \n1                   A Street Pier Boat Ramp Rebuilding         Hull   150000   \n2                     Abigail Adams Historical Society     Weymouth    25000   \n3                  Abington Housing Authority Upgrades     Abington    85000   \n4                        Abington Utility Task Vehicle     Abington    28000   \n..                                                 ...          ...      ...   \n858                       Wrentham Public Water Supply     Wrentham   150000   \n859               Youth Community Center in Georgetown   Georgetown    25000   \n860                      Youth Development in Lawrence     Lawrence   200000   \n861                                       YWCA Funding    Statewide  4500000   \n862                   Zeiterion Performing Arts Center  New Bedford   200000   \n\n                            Administering State Agency  \\\n0            MMP - Massachusetts Marketing Partnership   \n1      DCR - Department Of Conservation And Recreation   \n2    ANF - Executive Office For Administration And ...   \n3     DHCD - Dept Of Housing And Community Development   \n4       HED - Executive Office Of Economic Development   \n..                                                 ...   \n858       DEP - Department Of Environmental Protection   \n859     HED - Executive Office Of Economic Development   \n860  LWD - Executive Office Of Labor And Workforce ...   \n861     HED - Executive Office Of Economic Development   \n862          MMP - Massachusetts Marketing Partnership   \n\n          State Agency Contact  Account Number  \\\n0      Phyllis.cahaly@mass.gov        70021530   \n1     max.j.tassinari@mass.gov        15992031   \n2        daniel.shark@mass.gov        15992058   \n3          alain.fabo@mass.gov        70049318   \n4      rory.c.ohanlon@mass.gov        15992043   \n..                         ...             ...   \n858    steven.mccurdy@mass.gov        20000015   \n859    rory.c.ohanlon@mass.gov        70100013   \n860  sheila.l.tunney2@mass.gov        70100013   \n861    rory.c.ohanlon@mass.gov        15992047   \n862    Phyllis.cahaly@mass.gov        15992043   \n\n                                      Earmark Language  \n0    provided further that not less than $25,000 sh...  \n1    provided further, that not less than $150,000 ...  \n2    provided further, that not less than $25,000 s...  \n3    provided further, that not less than $85,000 s...  \n4    provided further, that not less than $28,000 s...  \n..                                                 ...  \n858  provided further, that not less than $150,000 ...  \n859  provided further, that not less than $25,000 s...  \n860  provided further, that not less than $200,000 ...  \n861  and provided further, that not less than $4,50...  \n862  provided further, that not less than $200,000 ...  \n\n[863 rows x 7 columns]",
      "text/html": "<div>\n<style scoped>\n    .dataframe tbody tr th:only-of-type {\n        vertical-align: middle;\n    }\n\n    .dataframe tbody tr th {\n        vertical-align: top;\n    }\n\n    .dataframe thead th {\n        text-align: right;\n    }\n</style>\n<table border=\"1\" class=\"dataframe\">\n  <thead>\n    <tr style=\"text-align: right;\">\n      <th></th>\n      <th>Earmark Description</th>\n      <th>Location</th>\n      <th>Amount</th>\n      <th>Administering State Agency</th>\n      <th>State Agency Contact</th>\n      <th>Account Number</th>\n      <th>Earmark Language</th>\n    </tr>\n  </thead>\n  <tbody>\n    <tr>\n      <th>0</th>\n      <td>54th Massachusetts Reenactors and Historical S...</td>\n      <td>Boston</td>\n      <td>25000</td>\n      <td>MMP - Massachusetts Marketing Partnership</td>\n      <td>Phyllis.cahaly@mass.gov</td>\n      <td>70021530</td>\n      <td>provided further that not less than $25,000 sh...</td>\n    </tr>\n    <tr>\n      <th>1</th>\n      <td>A Street Pier Boat Ramp Rebuilding</td>\n      <td>Hull</td>\n      <td>150000</td>\n      <td>DCR - Department Of Conservation And Recreation</td>\n      <td>max.j.tassinari@mass.gov</td>\n      <td>15992031</td>\n      <td>provided further, that not less than $150,000 ...</td>\n    </tr>\n    <tr>\n      <th>2</th>\n      <td>Abigail Adams Historical Society</td>\n      <td>Weymouth</td>\n      <td>25000</td>\n      <td>ANF - Executive Office For Administration And ...</td>\n      <td>daniel.shark@mass.gov</td>\n      <td>15992058</td>\n      <td>provided further, that not less than $25,000 s...</td>\n    </tr>\n    <tr>\n      <th>3</th>\n      <td>Abington Housing Authority Upgrades</td>\n      <td>Abington</td>\n      <td>85000</td>\n      <td>DHCD - Dept Of Housing And Community Development</td>\n      <td>alain.fabo@mass.gov</td>\n      <td>70049318</td>\n      <td>provided further, that not less than $85,000 s...</td>\n    </tr>\n    <tr>\n      <th>4</th>\n      <td>Abington Utility Task Vehicle</td>\n      <td>Abington</td>\n      <td>28000</td>\n      <td>HED - Executive Office Of Economic Development</td>\n      <td>rory.c.ohanlon@mass.gov</td>\n      <td>15992043</td>\n      <td>provided further, that not less than $28,000 s...</td>\n    </tr>\n    <tr>\n      <th>...</th>\n      <td>...</td>\n      <td>...</td>\n      <td>...</td>\n      <td>...</td>\n      <td>...</td>\n      <td>...</td>\n      <td>...</td>\n    </tr>\n    <tr>\n      <th>858</th>\n      <td>Wrentham Public Water Supply</td>\n      <td>Wrentham</td>\n      <td>150000</td>\n      <td>DEP - Department Of Environmental Protection</td>\n      <td>steven.mccurdy@mass.gov</td>\n      <td>20000015</td>\n      <td>provided further, that not less than $150,000 ...</td>\n    </tr>\n    <tr>\n      <th>859</th>\n      <td>Youth Community Center in Georgetown</td>\n      <td>Georgetown</td>\n      <td>25000</td>\n      <td>HED - Executive Office Of Economic Development</td>\n      <td>rory.c.ohanlon@mass.gov</td>\n      <td>70100013</td>\n      <td>provided further, that not less than $25,000 s...</td>\n    </tr>\n    <tr>\n      <th>860</th>\n      <td>Youth Development in Lawrence</td>\n      <td>Lawrence</td>\n      <td>200000</td>\n      <td>LWD - Executive Office Of Labor And Workforce ...</td>\n      <td>sheila.l.tunney2@mass.gov</td>\n      <td>70100013</td>\n      <td>provided further, that not less than $200,000 ...</td>\n    </tr>\n    <tr>\n      <th>861</th>\n      <td>YWCA Funding</td>\n      <td>Statewide</td>\n      <td>4500000</td>\n      <td>HED - Executive Office Of Economic Development</td>\n      <td>rory.c.ohanlon@mass.gov</td>\n      <td>15992047</td>\n      <td>and provided further, that not less than $4,50...</td>\n    </tr>\n    <tr>\n      <th>862</th>\n      <td>Zeiterion Performing Arts Center</td>\n      <td>New Bedford</td>\n      <td>200000</td>\n      <td>MMP - Massachusetts Marketing Partnership</td>\n      <td>Phyllis.cahaly@mass.gov</td>\n      <td>15992043</td>\n      <td>provided further, that not less than $200,000 ...</td>\n    </tr>\n  </tbody>\n</table>\n<p>863 rows × 7 columns</p>\n</div>"
     },
     "execution_count": 22,
     "metadata": {},
     "output_type": "execute_result"
    }
   ],
   "source": [
    "# TODO: clean census towns from the census data cleaned above"
   ],
   "metadata": {
    "collapsed": false,
    "pycharm": {
     "name": "#%% Data cleaning, for later\n"
    }
   }
  },
  {
   "cell_type": "code",
   "execution_count": 41,
   "outputs": [
    {
     "name": "stdout",
     "output_type": "stream",
     "text": [
      "402090.382387022 2103267.934430257\n"
     ]
    }
   ],
   "source": [
    "median = earmarks[\"Amount\"].median()\n",
    "mean = earmarks[\"Amount\"].mean()\n",
    "stddev = earmarks[\"Amount\"].std()\n",
    "print(mean, stddev) # stddev)"
   ],
   "metadata": {
    "collapsed": false,
    "pycharm": {
     "name": "#%% Basic summary statistics (next few cells)\n"
    }
   }
  },
  {
   "cell_type": "code",
   "execution_count": 93,
   "outputs": [
    {
     "data": {
      "text/plain": "                                   Earmark Description     Location   Amount  \\\n0    54th Massachusetts Reenactors and Historical S...       Boston    25000   \n1                   A Street Pier Boat Ramp Rebuilding         Hull   150000   \n2                     Abigail Adams Historical Society     Weymouth    25000   \n3                  Abington Housing Authority Upgrades     Abington    85000   \n4                        Abington Utility Task Vehicle     Abington    28000   \n..                                                 ...          ...      ...   \n858                       Wrentham Public Water Supply     Wrentham   150000   \n859               Youth Community Center in Georgetown   Georgetown    25000   \n860                      Youth Development in Lawrence     Lawrence   200000   \n861                                       YWCA Funding    Statewide  4500000   \n862                   Zeiterion Performing Arts Center  New Bedford   200000   \n\n                            Administering State Agency  \\\n0            MMP - Massachusetts Marketing Partnership   \n1      DCR - Department Of Conservation And Recreation   \n2    ANF - Executive Office For Administration And ...   \n3     DHCD - Dept Of Housing And Community Development   \n4       HED - Executive Office Of Economic Development   \n..                                                 ...   \n858       DEP - Department Of Environmental Protection   \n859     HED - Executive Office Of Economic Development   \n860  LWD - Executive Office Of Labor And Workforce ...   \n861     HED - Executive Office Of Economic Development   \n862          MMP - Massachusetts Marketing Partnership   \n\n          State Agency Contact  Account Number  \\\n0      Phyllis.cahaly@mass.gov        70021530   \n1     max.j.tassinari@mass.gov        15992031   \n2        daniel.shark@mass.gov        15992058   \n3          alain.fabo@mass.gov        70049318   \n4      rory.c.ohanlon@mass.gov        15992043   \n..                         ...             ...   \n858    steven.mccurdy@mass.gov        20000015   \n859    rory.c.ohanlon@mass.gov        70100013   \n860  sheila.l.tunney2@mass.gov        70100013   \n861    rory.c.ohanlon@mass.gov        15992047   \n862    Phyllis.cahaly@mass.gov        15992043   \n\n                                      Earmark Language  \n0    provided further that not less than $25,000 sh...  \n1    provided further, that not less than $150,000 ...  \n2    provided further, that not less than $25,000 s...  \n3    provided further, that not less than $85,000 s...  \n4    provided further, that not less than $28,000 s...  \n..                                                 ...  \n858  provided further, that not less than $150,000 ...  \n859  provided further, that not less than $25,000 s...  \n860  provided further, that not less than $200,000 ...  \n861  and provided further, that not less than $4,50...  \n862  provided further, that not less than $200,000 ...  \n\n[863 rows x 7 columns]",
      "text/html": "<div>\n<style scoped>\n    .dataframe tbody tr th:only-of-type {\n        vertical-align: middle;\n    }\n\n    .dataframe tbody tr th {\n        vertical-align: top;\n    }\n\n    .dataframe thead th {\n        text-align: right;\n    }\n</style>\n<table border=\"1\" class=\"dataframe\">\n  <thead>\n    <tr style=\"text-align: right;\">\n      <th></th>\n      <th>Earmark Description</th>\n      <th>Location</th>\n      <th>Amount</th>\n      <th>Administering State Agency</th>\n      <th>State Agency Contact</th>\n      <th>Account Number</th>\n      <th>Earmark Language</th>\n    </tr>\n  </thead>\n  <tbody>\n    <tr>\n      <th>0</th>\n      <td>54th Massachusetts Reenactors and Historical S...</td>\n      <td>Boston</td>\n      <td>25000</td>\n      <td>MMP - Massachusetts Marketing Partnership</td>\n      <td>Phyllis.cahaly@mass.gov</td>\n      <td>70021530</td>\n      <td>provided further that not less than $25,000 sh...</td>\n    </tr>\n    <tr>\n      <th>1</th>\n      <td>A Street Pier Boat Ramp Rebuilding</td>\n      <td>Hull</td>\n      <td>150000</td>\n      <td>DCR - Department Of Conservation And Recreation</td>\n      <td>max.j.tassinari@mass.gov</td>\n      <td>15992031</td>\n      <td>provided further, that not less than $150,000 ...</td>\n    </tr>\n    <tr>\n      <th>2</th>\n      <td>Abigail Adams Historical Society</td>\n      <td>Weymouth</td>\n      <td>25000</td>\n      <td>ANF - Executive Office For Administration And ...</td>\n      <td>daniel.shark@mass.gov</td>\n      <td>15992058</td>\n      <td>provided further, that not less than $25,000 s...</td>\n    </tr>\n    <tr>\n      <th>3</th>\n      <td>Abington Housing Authority Upgrades</td>\n      <td>Abington</td>\n      <td>85000</td>\n      <td>DHCD - Dept Of Housing And Community Development</td>\n      <td>alain.fabo@mass.gov</td>\n      <td>70049318</td>\n      <td>provided further, that not less than $85,000 s...</td>\n    </tr>\n    <tr>\n      <th>4</th>\n      <td>Abington Utility Task Vehicle</td>\n      <td>Abington</td>\n      <td>28000</td>\n      <td>HED - Executive Office Of Economic Development</td>\n      <td>rory.c.ohanlon@mass.gov</td>\n      <td>15992043</td>\n      <td>provided further, that not less than $28,000 s...</td>\n    </tr>\n    <tr>\n      <th>...</th>\n      <td>...</td>\n      <td>...</td>\n      <td>...</td>\n      <td>...</td>\n      <td>...</td>\n      <td>...</td>\n      <td>...</td>\n    </tr>\n    <tr>\n      <th>858</th>\n      <td>Wrentham Public Water Supply</td>\n      <td>Wrentham</td>\n      <td>150000</td>\n      <td>DEP - Department Of Environmental Protection</td>\n      <td>steven.mccurdy@mass.gov</td>\n      <td>20000015</td>\n      <td>provided further, that not less than $150,000 ...</td>\n    </tr>\n    <tr>\n      <th>859</th>\n      <td>Youth Community Center in Georgetown</td>\n      <td>Georgetown</td>\n      <td>25000</td>\n      <td>HED - Executive Office Of Economic Development</td>\n      <td>rory.c.ohanlon@mass.gov</td>\n      <td>70100013</td>\n      <td>provided further, that not less than $25,000 s...</td>\n    </tr>\n    <tr>\n      <th>860</th>\n      <td>Youth Development in Lawrence</td>\n      <td>Lawrence</td>\n      <td>200000</td>\n      <td>LWD - Executive Office Of Labor And Workforce ...</td>\n      <td>sheila.l.tunney2@mass.gov</td>\n      <td>70100013</td>\n      <td>provided further, that not less than $200,000 ...</td>\n    </tr>\n    <tr>\n      <th>861</th>\n      <td>YWCA Funding</td>\n      <td>Statewide</td>\n      <td>4500000</td>\n      <td>HED - Executive Office Of Economic Development</td>\n      <td>rory.c.ohanlon@mass.gov</td>\n      <td>15992047</td>\n      <td>and provided further, that not less than $4,50...</td>\n    </tr>\n    <tr>\n      <th>862</th>\n      <td>Zeiterion Performing Arts Center</td>\n      <td>New Bedford</td>\n      <td>200000</td>\n      <td>MMP - Massachusetts Marketing Partnership</td>\n      <td>Phyllis.cahaly@mass.gov</td>\n      <td>15992043</td>\n      <td>provided further, that not less than $200,000 ...</td>\n    </tr>\n  </tbody>\n</table>\n<p>863 rows × 7 columns</p>\n</div>"
     },
     "execution_count": 93,
     "metadata": {},
     "output_type": "execute_result"
    }
   ],
   "source": [
    "earmarks[\"Administering State Agency\"].value_counts()\n",
    "earmarks\n",
    "# TODO: group by agency"
   ],
   "metadata": {
    "collapsed": false,
    "pycharm": {
     "name": "#%% Analyze money by state agencies\n"
    }
   }
  },
  {
   "cell_type": "code",
   "execution_count": 52,
   "outputs": [
    {
     "data": {
      "text/plain": "            Location  counts    Amount\n2          Statewide      27  91655000\n0             Boston     106  57670000\n211   Norfolk County       1  50000000\n26        Framingham       6  14050000\n6               Lynn      12   5150000\n..               ...     ...       ...\n253       Georgetown       1     25000\n213        Groveland       1     21000\n174          Halifax       1     20000\n245  Merimack Valley       1     20000\n164        Southwick       1      5000\n\n[254 rows x 3 columns]",
      "text/html": "<div>\n<style scoped>\n    .dataframe tbody tr th:only-of-type {\n        vertical-align: middle;\n    }\n\n    .dataframe tbody tr th {\n        vertical-align: top;\n    }\n\n    .dataframe thead th {\n        text-align: right;\n    }\n</style>\n<table border=\"1\" class=\"dataframe\">\n  <thead>\n    <tr style=\"text-align: right;\">\n      <th></th>\n      <th>Location</th>\n      <th>counts</th>\n      <th>Amount</th>\n    </tr>\n  </thead>\n  <tbody>\n    <tr>\n      <th>2</th>\n      <td>Statewide</td>\n      <td>27</td>\n      <td>91655000</td>\n    </tr>\n    <tr>\n      <th>0</th>\n      <td>Boston</td>\n      <td>106</td>\n      <td>57670000</td>\n    </tr>\n    <tr>\n      <th>211</th>\n      <td>Norfolk County</td>\n      <td>1</td>\n      <td>50000000</td>\n    </tr>\n    <tr>\n      <th>26</th>\n      <td>Framingham</td>\n      <td>6</td>\n      <td>14050000</td>\n    </tr>\n    <tr>\n      <th>6</th>\n      <td>Lynn</td>\n      <td>12</td>\n      <td>5150000</td>\n    </tr>\n    <tr>\n      <th>...</th>\n      <td>...</td>\n      <td>...</td>\n      <td>...</td>\n    </tr>\n    <tr>\n      <th>253</th>\n      <td>Georgetown</td>\n      <td>1</td>\n      <td>25000</td>\n    </tr>\n    <tr>\n      <th>213</th>\n      <td>Groveland</td>\n      <td>1</td>\n      <td>21000</td>\n    </tr>\n    <tr>\n      <th>174</th>\n      <td>Halifax</td>\n      <td>1</td>\n      <td>20000</td>\n    </tr>\n    <tr>\n      <th>245</th>\n      <td>Merimack Valley</td>\n      <td>1</td>\n      <td>20000</td>\n    </tr>\n    <tr>\n      <th>164</th>\n      <td>Southwick</td>\n      <td>1</td>\n      <td>5000</td>\n    </tr>\n  </tbody>\n</table>\n<p>254 rows × 3 columns</p>\n</div>"
     },
     "execution_count": 52,
     "metadata": {},
     "output_type": "execute_result"
    }
   ],
   "source": [
    "mpc = earmarks[\"Location\"].value_counts().rename_axis(\"Location\").reset_index(name=\"counts\")\n",
    "mpc = pd.merge(mpc, earmarks.groupby(\"Location\").sum()[\"Amount\"], on=\"Location\").sort_values(by=\"Amount\", ascending=False)\n",
    "mpc[\"Amount distributed by location\"]"
   ],
   "metadata": {
    "collapsed": false,
    "pycharm": {
     "name": "#%% Analyze money per city\n"
    }
   }
  },
  {
   "cell_type": "markdown",
   "source": [
    "Current total amount of earmarks distributed is around 350 million to various state agencies, probably not representative of all\n",
    "\n",
    "Schools were also paid around $100 million in HVAC grants -- more in notes (TK)"
   ],
   "metadata": {
    "collapsed": false,
    "pycharm": {
     "name": "#%% md\n"
    }
   }
  },
  {
   "cell_type": "code",
   "execution_count": 96,
   "outputs": [
    {
     "data": {
      "text/plain": "<AxesSubplot:>"
     },
     "execution_count": 96,
     "metadata": {},
     "output_type": "execute_result"
    },
    {
     "data": {
      "text/plain": "<Figure size 432x288 with 1 Axes>",
      "image/png": "[encoded data removed]"
     },
     "metadata": {
      "needs_background": "light"
     },
     "output_type": "display_data"
    }
   ],
   "source": [
    "admin = pd.Series(earmarks[\"Administering State Agency\"])\n",
    "admin.hist()"
   ],
   "metadata": {
    "collapsed": false,
    "pycharm": {
     "name": "#%%\n"
    }
   }
  },
  {
   "cell_type": "code",
   "execution_count": null,
   "outputs": [],
   "source": [
    "town_shapefiles.plot()"
   ],
   "metadata": {
    "collapsed": false,
    "pycharm": {
     "name": "#%% Plot shapefiles/heatmap later down the line?\n"
    }
   }
  },
  {
   "cell_type": "code",
   "execution_count": null,
   "outputs": [],
   "source": [],
   "metadata": {
    "collapsed": false,
    "pycharm": {
     "name": "#%%\n"
    }
   }
  }
 ],
 "metadata": {
  "kernelspec": {
   "display_name": "Python 3",
   "language": "python",
   "name": "python3"
  },
  "language_info": {
   "codemirror_mode": {
    "name": "ipython",
    "version": 2
   },
   "file_extension": ".py",
   "mimetype": "text/x-python",
   "name": "python",
   "nbconvert_exporter": "python",
   "pygments_lexer": "ipython2",
   "version": "2.7.6"
  }
 },
 "nbformat": 4,
 "nbformat_minor": 0
}