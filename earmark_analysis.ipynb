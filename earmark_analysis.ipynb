{
 "cells": [
  {
   "cell_type": "markdown",
   "source": [
    "# GBH Earmarks Python Workbook\n",
    "\n",
    "This is a workbook which has all data calculations & transforming for earmarks."
   ],
   "metadata": {
    "collapsed": false
   }
  },
  {
   "cell_type": "code",
   "execution_count": 3,
   "metadata": {
    "collapsed": true
   },
   "outputs": [],
   "source": [
    "# Imports\n",
    "\n",
    "import pandas as pd\n",
    "# import geopandas as gpd\n",
    "import matplotlib.pyplot as plt\n",
    "import openpyxl # for spreadsheets\n",
    "import matplotlib.font_manager as fm\n",
    "import numpy as np\n",
    "import difflib\n",
    "import re"
   ]
  },
  {
   "cell_type": "code",
   "execution_count": 3,
   "outputs": [],
   "source": [
    "# Options to support viewing of more items in console\n",
    "\n",
    "pd.set_option('display.max_rows', 500)\n",
    "pd.options.display.float_format = '{:20,.5f}'.format"
   ],
   "metadata": {
    "collapsed": false,
    "pycharm": {
     "name": "#%%\n"
    }
   }
  },
  {
   "cell_type": "code",
   "execution_count": 4,
   "outputs": [
    {
     "ename": "FileNotFoundError",
     "evalue": "[Errno 2] No such file or directory: 'data/amendments.xlsx'",
     "output_type": "error",
     "traceback": [
      "\u001B[0;31m---------------------------------------------------------------------------\u001B[0m",
      "\u001B[0;31mFileNotFoundError\u001B[0m                         Traceback (most recent call last)",
      "Input \u001B[0;32mIn [4]\u001B[0m, in \u001B[0;36m<cell line: 5>\u001B[0;34m()\u001B[0m\n\u001B[1;32m      3\u001B[0m earmarks \u001B[38;5;241m=\u001B[39m pd\u001B[38;5;241m.\u001B[39mread_csv(\u001B[38;5;124m\"\u001B[39m\u001B[38;5;124mdata/earmarks.csv\u001B[39m\u001B[38;5;124m\"\u001B[39m)\n\u001B[1;32m      4\u001B[0m \u001B[38;5;66;03m# town_shapefiles = gpd.read_file(\"data/town_shapefile.shp\")\u001B[39;00m\n\u001B[0;32m----> 5\u001B[0m amendment_proposers \u001B[38;5;241m=\u001B[39m \u001B[43mpd\u001B[49m\u001B[38;5;241;43m.\u001B[39;49m\u001B[43mread_excel\u001B[49m\u001B[43m(\u001B[49m\u001B[38;5;124;43m\"\u001B[39;49m\u001B[38;5;124;43mdata/amendments.xlsx\u001B[39;49m\u001B[38;5;124;43m\"\u001B[39;49m\u001B[43m)\u001B[49m\n\u001B[1;32m      6\u001B[0m earmarks\u001B[38;5;241m.\u001B[39mhead()\n\u001B[1;32m      7\u001B[0m amendment_proposers\u001B[38;5;241m.\u001B[39mhead()\n",
      "File \u001B[0;32m~/lib/python3.9/site-packages/pandas/util/_decorators.py:311\u001B[0m, in \u001B[0;36mdeprecate_nonkeyword_arguments.<locals>.decorate.<locals>.wrapper\u001B[0;34m(*args, **kwargs)\u001B[0m\n\u001B[1;32m    305\u001B[0m \u001B[38;5;28;01mif\u001B[39;00m \u001B[38;5;28mlen\u001B[39m(args) \u001B[38;5;241m>\u001B[39m num_allow_args:\n\u001B[1;32m    306\u001B[0m     warnings\u001B[38;5;241m.\u001B[39mwarn(\n\u001B[1;32m    307\u001B[0m         msg\u001B[38;5;241m.\u001B[39mformat(arguments\u001B[38;5;241m=\u001B[39marguments),\n\u001B[1;32m    308\u001B[0m         \u001B[38;5;167;01mFutureWarning\u001B[39;00m,\n\u001B[1;32m    309\u001B[0m         stacklevel\u001B[38;5;241m=\u001B[39mstacklevel,\n\u001B[1;32m    310\u001B[0m     )\n\u001B[0;32m--> 311\u001B[0m \u001B[38;5;28;01mreturn\u001B[39;00m \u001B[43mfunc\u001B[49m\u001B[43m(\u001B[49m\u001B[38;5;241;43m*\u001B[39;49m\u001B[43margs\u001B[49m\u001B[43m,\u001B[49m\u001B[43m \u001B[49m\u001B[38;5;241;43m*\u001B[39;49m\u001B[38;5;241;43m*\u001B[39;49m\u001B[43mkwargs\u001B[49m\u001B[43m)\u001B[49m\n",
      "File \u001B[0;32m~/lib/python3.9/site-packages/pandas/io/excel/_base.py:457\u001B[0m, in \u001B[0;36mread_excel\u001B[0;34m(io, sheet_name, header, names, index_col, usecols, squeeze, dtype, engine, converters, true_values, false_values, skiprows, nrows, na_values, keep_default_na, na_filter, verbose, parse_dates, date_parser, thousands, decimal, comment, skipfooter, convert_float, mangle_dupe_cols, storage_options)\u001B[0m\n\u001B[1;32m    455\u001B[0m \u001B[38;5;28;01mif\u001B[39;00m \u001B[38;5;129;01mnot\u001B[39;00m \u001B[38;5;28misinstance\u001B[39m(io, ExcelFile):\n\u001B[1;32m    456\u001B[0m     should_close \u001B[38;5;241m=\u001B[39m \u001B[38;5;28;01mTrue\u001B[39;00m\n\u001B[0;32m--> 457\u001B[0m     io \u001B[38;5;241m=\u001B[39m \u001B[43mExcelFile\u001B[49m\u001B[43m(\u001B[49m\u001B[43mio\u001B[49m\u001B[43m,\u001B[49m\u001B[43m \u001B[49m\u001B[43mstorage_options\u001B[49m\u001B[38;5;241;43m=\u001B[39;49m\u001B[43mstorage_options\u001B[49m\u001B[43m,\u001B[49m\u001B[43m \u001B[49m\u001B[43mengine\u001B[49m\u001B[38;5;241;43m=\u001B[39;49m\u001B[43mengine\u001B[49m\u001B[43m)\u001B[49m\n\u001B[1;32m    458\u001B[0m \u001B[38;5;28;01melif\u001B[39;00m engine \u001B[38;5;129;01mand\u001B[39;00m engine \u001B[38;5;241m!=\u001B[39m io\u001B[38;5;241m.\u001B[39mengine:\n\u001B[1;32m    459\u001B[0m     \u001B[38;5;28;01mraise\u001B[39;00m \u001B[38;5;167;01mValueError\u001B[39;00m(\n\u001B[1;32m    460\u001B[0m         \u001B[38;5;124m\"\u001B[39m\u001B[38;5;124mEngine should not be specified when passing \u001B[39m\u001B[38;5;124m\"\u001B[39m\n\u001B[1;32m    461\u001B[0m         \u001B[38;5;124m\"\u001B[39m\u001B[38;5;124man ExcelFile - ExcelFile already has the engine set\u001B[39m\u001B[38;5;124m\"\u001B[39m\n\u001B[1;32m    462\u001B[0m     )\n",
      "File \u001B[0;32m~/lib/python3.9/site-packages/pandas/io/excel/_base.py:1376\u001B[0m, in \u001B[0;36mExcelFile.__init__\u001B[0;34m(self, path_or_buffer, engine, storage_options)\u001B[0m\n\u001B[1;32m   1374\u001B[0m     ext \u001B[38;5;241m=\u001B[39m \u001B[38;5;124m\"\u001B[39m\u001B[38;5;124mxls\u001B[39m\u001B[38;5;124m\"\u001B[39m\n\u001B[1;32m   1375\u001B[0m \u001B[38;5;28;01melse\u001B[39;00m:\n\u001B[0;32m-> 1376\u001B[0m     ext \u001B[38;5;241m=\u001B[39m \u001B[43minspect_excel_format\u001B[49m\u001B[43m(\u001B[49m\n\u001B[1;32m   1377\u001B[0m \u001B[43m        \u001B[49m\u001B[43mcontent_or_path\u001B[49m\u001B[38;5;241;43m=\u001B[39;49m\u001B[43mpath_or_buffer\u001B[49m\u001B[43m,\u001B[49m\u001B[43m \u001B[49m\u001B[43mstorage_options\u001B[49m\u001B[38;5;241;43m=\u001B[39;49m\u001B[43mstorage_options\u001B[49m\n\u001B[1;32m   1378\u001B[0m \u001B[43m    \u001B[49m\u001B[43m)\u001B[49m\n\u001B[1;32m   1379\u001B[0m     \u001B[38;5;28;01mif\u001B[39;00m ext \u001B[38;5;129;01mis\u001B[39;00m \u001B[38;5;28;01mNone\u001B[39;00m:\n\u001B[1;32m   1380\u001B[0m         \u001B[38;5;28;01mraise\u001B[39;00m \u001B[38;5;167;01mValueError\u001B[39;00m(\n\u001B[1;32m   1381\u001B[0m             \u001B[38;5;124m\"\u001B[39m\u001B[38;5;124mExcel file format cannot be determined, you must specify \u001B[39m\u001B[38;5;124m\"\u001B[39m\n\u001B[1;32m   1382\u001B[0m             \u001B[38;5;124m\"\u001B[39m\u001B[38;5;124man engine manually.\u001B[39m\u001B[38;5;124m\"\u001B[39m\n\u001B[1;32m   1383\u001B[0m         )\n",
      "File \u001B[0;32m~/lib/python3.9/site-packages/pandas/io/excel/_base.py:1250\u001B[0m, in \u001B[0;36minspect_excel_format\u001B[0;34m(content_or_path, storage_options)\u001B[0m\n\u001B[1;32m   1247\u001B[0m \u001B[38;5;28;01mif\u001B[39;00m \u001B[38;5;28misinstance\u001B[39m(content_or_path, \u001B[38;5;28mbytes\u001B[39m):\n\u001B[1;32m   1248\u001B[0m     content_or_path \u001B[38;5;241m=\u001B[39m BytesIO(content_or_path)\n\u001B[0;32m-> 1250\u001B[0m \u001B[38;5;28;01mwith\u001B[39;00m \u001B[43mget_handle\u001B[49m\u001B[43m(\u001B[49m\n\u001B[1;32m   1251\u001B[0m \u001B[43m    \u001B[49m\u001B[43mcontent_or_path\u001B[49m\u001B[43m,\u001B[49m\u001B[43m \u001B[49m\u001B[38;5;124;43m\"\u001B[39;49m\u001B[38;5;124;43mrb\u001B[39;49m\u001B[38;5;124;43m\"\u001B[39;49m\u001B[43m,\u001B[49m\u001B[43m \u001B[49m\u001B[43mstorage_options\u001B[49m\u001B[38;5;241;43m=\u001B[39;49m\u001B[43mstorage_options\u001B[49m\u001B[43m,\u001B[49m\u001B[43m \u001B[49m\u001B[43mis_text\u001B[49m\u001B[38;5;241;43m=\u001B[39;49m\u001B[38;5;28;43;01mFalse\u001B[39;49;00m\n\u001B[1;32m   1252\u001B[0m \u001B[43m\u001B[49m\u001B[43m)\u001B[49m \u001B[38;5;28;01mas\u001B[39;00m handle:\n\u001B[1;32m   1253\u001B[0m     stream \u001B[38;5;241m=\u001B[39m handle\u001B[38;5;241m.\u001B[39mhandle\n\u001B[1;32m   1254\u001B[0m     stream\u001B[38;5;241m.\u001B[39mseek(\u001B[38;5;241m0\u001B[39m)\n",
      "File \u001B[0;32m~/lib/python3.9/site-packages/pandas/io/common.py:798\u001B[0m, in \u001B[0;36mget_handle\u001B[0;34m(path_or_buf, mode, encoding, compression, memory_map, is_text, errors, storage_options)\u001B[0m\n\u001B[1;32m    789\u001B[0m         handle \u001B[38;5;241m=\u001B[39m \u001B[38;5;28mopen\u001B[39m(\n\u001B[1;32m    790\u001B[0m             handle,\n\u001B[1;32m    791\u001B[0m             ioargs\u001B[38;5;241m.\u001B[39mmode,\n\u001B[0;32m   (...)\u001B[0m\n\u001B[1;32m    794\u001B[0m             newline\u001B[38;5;241m=\u001B[39m\u001B[38;5;124m\"\u001B[39m\u001B[38;5;124m\"\u001B[39m,\n\u001B[1;32m    795\u001B[0m         )\n\u001B[1;32m    796\u001B[0m     \u001B[38;5;28;01melse\u001B[39;00m:\n\u001B[1;32m    797\u001B[0m         \u001B[38;5;66;03m# Binary mode\u001B[39;00m\n\u001B[0;32m--> 798\u001B[0m         handle \u001B[38;5;241m=\u001B[39m \u001B[38;5;28;43mopen\u001B[39;49m\u001B[43m(\u001B[49m\u001B[43mhandle\u001B[49m\u001B[43m,\u001B[49m\u001B[43m \u001B[49m\u001B[43mioargs\u001B[49m\u001B[38;5;241;43m.\u001B[39;49m\u001B[43mmode\u001B[49m\u001B[43m)\u001B[49m\n\u001B[1;32m    799\u001B[0m     handles\u001B[38;5;241m.\u001B[39mappend(handle)\n\u001B[1;32m    801\u001B[0m \u001B[38;5;66;03m# Convert BytesIO or file objects passed with an encoding\u001B[39;00m\n",
      "\u001B[0;31mFileNotFoundError\u001B[0m: [Errno 2] No such file or directory: 'data/amendments.xlsx'"
     ]
    }
   ],
   "source": [
    "# Load data\n",
    "\n",
    "earmarks = pd.read_csv(\"data/earmarks.csv\")\n",
    "# amendment_proposers = pd.read_excel(\"data/amendments.xlsx\") <- used later\n",
    "earmarks.head()"
   ],
   "metadata": {
    "collapsed": false,
    "pycharm": {
     "name": "#%% Data importing\n"
    }
   }
  },
  {
   "cell_type": "markdown",
   "source": [
    "## Population fixing\n",
    "\n",
    "The population information we get from the US Census isn't perfect -- this particular table, which details all demographic data, including Hispanic or Latino and all other races ignoring those is quite dense and has a bunch of N/A rows since they're separated into different towns. Fortunately, a relatively simple regex call will allow us to get rid of much of this and only filter out rows that we want and the totals for each.\n",
    "\n",
    "The first cell is mainly for cleaning, the second for calculating diversity, which is going to be explained below.\n"
   ],
   "metadata": {
    "collapsed": false
   }
  },
  {
   "cell_type": "code",
   "execution_count": 22,
   "outputs": [],
   "source": [
    "# Clean population sheet\n",
    "\n",
    "population = pd.read_csv(\"data/ma_census/population.csv\")\n",
    "population = population.dropna()\n",
    "\n",
    "population[\"Label (Grouping)\"] = population[\"Label (Grouping)\"].str.slice(start=4)\n",
    "population = population.rename(columns={\"Label (Grouping)\": \"city\"}, errors=\"raise\")\n",
    "population = population.rename(mapper=lambda x: x.strip().replace('!', ''), axis='columns')\n",
    "new_names = {}\n",
    "for c in population[\"city\"]:\n",
    "    if type(c) == int or c == \"County subdivisions not defined\":\n",
    "        continue\n",
    "    if c == \"Massachusetts\":\n",
    "        new_names[c] = \"Massachusetts\"\n",
    "    else:\n",
    "        new_names[c] = re.sub(r\" (Town)? ?(town)? ?(city)?, \\w* County, Massachusetts$\", \"\", c) # Replaces \"Massachusetts\"\n",
    "population = population.replace(new_names)\n",
    "population = population.loc[~population[\"city\"].str.contains(\"County subdivisions not defined,\")]\n",
    "\n",
    "# Annoyingly, all the numbers are comma separated\n",
    "\n",
    "\n",
    "for col in population.columns[1:]:\n",
    "    population[col] = population[col].replace(\",\", \"\", regex=True).astype(int)\n",
    "# population.sort_values(by=\"city\")\n",
    "population.to_csv(path_or_buf=\"out/cities.csv\")"
   ],
   "metadata": {
    "collapsed": false,
    "pycharm": {
     "name": "#%% Census data formatting\n"
    }
   }
  },
  {
   "cell_type": "markdown",
   "source": [
    "# Demographics Indepth Analysis\n",
    "\n",
    "The below cells calculate how diverse a given town is. How that's calculated is using the US Census' way of calculating diversity. Note that people with more than 1 listed race are not included in the calculation.\n",
    "\n",
    "The following are summed to calculate out of the total (Non Hispanic/Latino if unnoted):\n",
    "- Hispanic/Latino (col 2)\n",
    "- White (col 5)\n",
    "- Black/African American (col 6)\n",
    "- American Indian/Alaska Native (col 7)\n",
    "- Asian (col 8)\n",
    "- Native Hawaiian/Pacific Islander (col 9)\n",
    "- Some Other Race (col 10)\n",
    "- Two or more Races (col 11)\n",
    "\n",
    "The census' way of determining diversity is by the Diversity Index, a measure between 0 and 1 on how likely two random people from the population will be of the same race. That in particular is very hard to determine, especially if the two people selected are determined to have two or more races. For more information on how this is determined, see the link to [their blog here](https://www.census.gov/newsroom/blogs/random-samplings/2021/08/measuring-racial-ethnic-diversity-2020-census.html).\n",
    "\n",
    "Two or more races is determined as one group in the census calculations, and that generally makes sense since if a person has more than one race, say White and African American and are matched with African American, they are technically matched with someone from a different group. Via Bayes rule,\n",
    "\n",
    "$$Pr(A \\cap B) = Pr(A) Pr(B|A)$$ given A and B are in the same group. We can just subtract this probability across the sum of all groups, since that's the probability that a given area has two people picked differently. We can calculate this easily.\n",
    "\n",
    "The TL;DR of this is we're calculating our own Diversity Index for each town based on the population counts, using probabilities."
   ],
   "metadata": {
    "collapsed": false
   }
  },
  {
   "cell_type": "code",
   "execution_count": 9,
   "outputs": [
    {
     "data": {
      "text/plain": "0    0.515979\ndtype: object"
     },
     "execution_count": 9,
     "metadata": {},
     "output_type": "execute_result"
    }
   ],
   "source": [
    "columns_to_pick = [2, 5, 6, 7, 8, 9, 10, 11]\n",
    "\n",
    "def diversity_calculation(row):\n",
    "    # print(row)\n",
    "    \"\"\"Calculates the diversity index for a given city, given by the row above.\"\"\"\n",
    "    bins = [row[k] for k in columns_to_pick]\n",
    "    di_score = 0.\n",
    "    total = sum(bins)\n",
    "    for i in range(len(bins)):\n",
    "        di_score += (bins[i] / total) * ((bins[i]-1) / total)\n",
    "    return 1 - di_score\n",
    "\n",
    "# testing by statewide first -- expected value according to the census is 51.6%\n",
    "cols = population.columns\n",
    "statewide = pd.DataFrame(index=range(1), columns=range(len(cols)))\n",
    "for i in columns_to_pick:\n",
    "    statewide.iloc[0, i] = sum(population[cols[i]])\n",
    "diversity_calculation(statewide)"
   ],
   "metadata": {
    "collapsed": false,
    "pycharm": {
     "name": "#%%\n"
    }
   }
  },
  {
   "cell_type": "code",
   "execution_count": 12,
   "outputs": [],
   "source": [
    "# Now to do this for every town:\n",
    "population[\"diversity_score\"] = population.apply(lambda row: diversity_calculation(row), raw=True, axis=1)\n",
    "population.sort_values(by=\"diversity_score\", inplace=True, ascending=False)\n",
    "population.to_csv(path_or_buf=\"out/cities_with_diversity.csv\") # Unfortunately, the diversity score is at the end, reorder it so it's visible"
   ],
   "metadata": {
    "collapsed": false,
    "pycharm": {
     "name": "#%%\n"
    }
   }
  },
  {
   "cell_type": "code",
   "execution_count": 13,
   "outputs": [
    {
     "name": "stdout",
     "output_type": "stream",
     "text": [
      "402090.382387022 2103267.934430257 100000.0\n"
     ]
    }
   ],
   "source": [
    "# Basic statistics\n",
    "\n",
    "median = earmarks[\"Amount\"].median()\n",
    "mean = earmarks[\"Amount\"].mean()\n",
    "stddev = earmarks[\"Amount\"].std()\n",
    "print(mean, stddev, median) # stddev)"
   ],
   "metadata": {
    "collapsed": false,
    "pycharm": {
     "name": "#%% Basic summary statistics (next few cells)\n"
    }
   }
  },
  {
   "cell_type": "code",
   "execution_count": 15,
   "outputs": [
    {
     "data": {
      "text/plain": "     Unnamed: 0                                Earmark Description  \\\n0             0  54th Massachusetts Reenactors and Historical S...   \n1             1                 A Street Pier Boat Ramp Rebuilding   \n2             2                   Abigail Adams Historical Society   \n3             3                Abington Housing Authority Upgrades   \n4             4                      Abington Utility Task Vehicle   \n..          ...                                                ...   \n858         858                       Wrentham Public Water Supply   \n859         859               Youth Community Center in Georgetown   \n860         860                      Youth Development in Lawrence   \n861         861                                       YWCA Funding   \n862         862                   Zeiterion Performing Arts Center   \n\n        Location   Amount                         Administering State Agency  \\\n0         Boston    25000          MMP - Massachusetts Marketing Partnership   \n1           Hull   150000    DCR - Department Of Conservation And Recreation   \n2       Weymouth    25000  ANF - Executive Office For Administration And ...   \n3       Abington    85000   DHCD - Dept Of Housing And Community Development   \n4       Abington    28000     HED - Executive Office Of Economic Development   \n..           ...      ...                                                ...   \n858     Wrentham   150000       DEP - Department Of Environmental Protection   \n859   Georgetown    25000     HED - Executive Office Of Economic Development   \n860     Lawrence   200000  LWD - Executive Office Of Labor And Workforce ...   \n861    Cambridge  4500000     HED - Executive Office Of Economic Development   \n862  New Bedford   200000          MMP - Massachusetts Marketing Partnership   \n\n          State Agency Contact  Account Number  \\\n0      Phyllis.cahaly@mass.gov        70021530   \n1     max.j.tassinari@mass.gov        15992031   \n2        daniel.shark@mass.gov        15992058   \n3          alain.fabo@mass.gov        70049318   \n4      rory.c.ohanlon@mass.gov        15992043   \n..                         ...             ...   \n858    steven.mccurdy@mass.gov        20000015   \n859    rory.c.ohanlon@mass.gov        70100013   \n860  sheila.l.tunney2@mass.gov        70100013   \n861    rory.c.ohanlon@mass.gov        15992047   \n862    Phyllis.cahaly@mass.gov        15992043   \n\n                                      Earmark Language Agency  \\\n0    provided further that not less than $25,000 sh...    MMP   \n1    provided further, that not less than $150,000 ...    DCR   \n2    provided further, that not less than $25,000 s...    ANF   \n3    provided further, that not less than $85,000 s...    DHC   \n4    provided further, that not less than $28,000 s...    HED   \n..                                                 ...    ...   \n858  provided further, that not less than $150,000 ...    DEP   \n859  provided further, that not less than $25,000 s...    HED   \n860  provided further, that not less than $200,000 ...    LWD   \n861  and provided further, that not less than $4,50...    HED   \n862  provided further, that not less than $200,000 ...    MMP   \n\n                                            Categories  ...  Occupational  \\\n0                                           Historical  ...         False   \n1                Recreation, Construction, Maintenance  ...         False   \n2                                           Historical  ...         False   \n3                                 Housing, Maintenance  ...         False   \n4                                            Transport  ...         False   \n..                                                 ...  ...           ...   \n858                              Environment, Research  ...         False   \n859                     Youth Programs, Human Services  ...         False   \n860                                     Youth Programs  ...         False   \n861  Economic, Maintenance, Human Services, Equalit...  ...         False   \n862                                               Arts  ...         False   \n\n     Recreation  Rehabilitation  Religious  Transport  Technology  \\\n0         False           False      False      False       False   \n1          True           False      False      False       False   \n2         False           False      False      False       False   \n3         False           False      False      False       False   \n4         False           False      False       True       False   \n..          ...             ...        ...        ...         ...   \n858       False           False      False      False       False   \n859       False           False      False      False       False   \n860       False           False      False      False       False   \n861       False           False      False      False       False   \n862       False           False      False      False       False   \n\n     Youth Programs  Accessibility  Maintenance  Research  \n0             False          False        False     False  \n1             False          False         True     False  \n2             False          False        False     False  \n3             False          False         True     False  \n4             False          False        False     False  \n..              ...            ...          ...       ...  \n858           False          False        False      True  \n859            True          False        False     False  \n860            True          False        False     False  \n861           False          False         True     False  \n862           False          False        False     False  \n\n[863 rows x 34 columns]",
      "text/html": "<div>\n<style scoped>\n    .dataframe tbody tr th:only-of-type {\n        vertical-align: middle;\n    }\n\n    .dataframe tbody tr th {\n        vertical-align: top;\n    }\n\n    .dataframe thead th {\n        text-align: right;\n    }\n</style>\n<table border=\"1\" class=\"dataframe\">\n  <thead>\n    <tr style=\"text-align: right;\">\n      <th></th>\n      <th>Unnamed: 0</th>\n      <th>Earmark Description</th>\n      <th>Location</th>\n      <th>Amount</th>\n      <th>Administering State Agency</th>\n      <th>State Agency Contact</th>\n      <th>Account Number</th>\n      <th>Earmark Language</th>\n      <th>Agency</th>\n      <th>Categories</th>\n      <th>...</th>\n      <th>Occupational</th>\n      <th>Recreation</th>\n      <th>Rehabilitation</th>\n      <th>Religious</th>\n      <th>Transport</th>\n      <th>Technology</th>\n      <th>Youth Programs</th>\n      <th>Accessibility</th>\n      <th>Maintenance</th>\n      <th>Research</th>\n    </tr>\n  </thead>\n  <tbody>\n    <tr>\n      <th>0</th>\n      <td>0</td>\n      <td>54th Massachusetts Reenactors and Historical S...</td>\n      <td>Boston</td>\n      <td>25000</td>\n      <td>MMP - Massachusetts Marketing Partnership</td>\n      <td>Phyllis.cahaly@mass.gov</td>\n      <td>70021530</td>\n      <td>provided further that not less than $25,000 sh...</td>\n      <td>MMP</td>\n      <td>Historical</td>\n      <td>...</td>\n      <td>False</td>\n      <td>False</td>\n      <td>False</td>\n      <td>False</td>\n      <td>False</td>\n      <td>False</td>\n      <td>False</td>\n      <td>False</td>\n      <td>False</td>\n      <td>False</td>\n    </tr>\n    <tr>\n      <th>1</th>\n      <td>1</td>\n      <td>A Street Pier Boat Ramp Rebuilding</td>\n      <td>Hull</td>\n      <td>150000</td>\n      <td>DCR - Department Of Conservation And Recreation</td>\n      <td>max.j.tassinari@mass.gov</td>\n      <td>15992031</td>\n      <td>provided further, that not less than $150,000 ...</td>\n      <td>DCR</td>\n      <td>Recreation, Construction, Maintenance</td>\n      <td>...</td>\n      <td>False</td>\n      <td>True</td>\n      <td>False</td>\n      <td>False</td>\n      <td>False</td>\n      <td>False</td>\n      <td>False</td>\n      <td>False</td>\n      <td>True</td>\n      <td>False</td>\n    </tr>\n    <tr>\n      <th>2</th>\n      <td>2</td>\n      <td>Abigail Adams Historical Society</td>\n      <td>Weymouth</td>\n      <td>25000</td>\n      <td>ANF - Executive Office For Administration And ...</td>\n      <td>daniel.shark@mass.gov</td>\n      <td>15992058</td>\n      <td>provided further, that not less than $25,000 s...</td>\n      <td>ANF</td>\n      <td>Historical</td>\n      <td>...</td>\n      <td>False</td>\n      <td>False</td>\n      <td>False</td>\n      <td>False</td>\n      <td>False</td>\n      <td>False</td>\n      <td>False</td>\n      <td>False</td>\n      <td>False</td>\n      <td>False</td>\n    </tr>\n    <tr>\n      <th>3</th>\n      <td>3</td>\n      <td>Abington Housing Authority Upgrades</td>\n      <td>Abington</td>\n      <td>85000</td>\n      <td>DHCD - Dept Of Housing And Community Development</td>\n      <td>alain.fabo@mass.gov</td>\n      <td>70049318</td>\n      <td>provided further, that not less than $85,000 s...</td>\n      <td>DHC</td>\n      <td>Housing, Maintenance</td>\n      <td>...</td>\n      <td>False</td>\n      <td>False</td>\n      <td>False</td>\n      <td>False</td>\n      <td>False</td>\n      <td>False</td>\n      <td>False</td>\n      <td>False</td>\n      <td>True</td>\n      <td>False</td>\n    </tr>\n    <tr>\n      <th>4</th>\n      <td>4</td>\n      <td>Abington Utility Task Vehicle</td>\n      <td>Abington</td>\n      <td>28000</td>\n      <td>HED - Executive Office Of Economic Development</td>\n      <td>rory.c.ohanlon@mass.gov</td>\n      <td>15992043</td>\n      <td>provided further, that not less than $28,000 s...</td>\n      <td>HED</td>\n      <td>Transport</td>\n      <td>...</td>\n      <td>False</td>\n      <td>False</td>\n      <td>False</td>\n      <td>False</td>\n      <td>True</td>\n      <td>False</td>\n      <td>False</td>\n      <td>False</td>\n      <td>False</td>\n      <td>False</td>\n    </tr>\n    <tr>\n      <th>...</th>\n      <td>...</td>\n      <td>...</td>\n      <td>...</td>\n      <td>...</td>\n      <td>...</td>\n      <td>...</td>\n      <td>...</td>\n      <td>...</td>\n      <td>...</td>\n      <td>...</td>\n      <td>...</td>\n      <td>...</td>\n      <td>...</td>\n      <td>...</td>\n      <td>...</td>\n      <td>...</td>\n      <td>...</td>\n      <td>...</td>\n      <td>...</td>\n      <td>...</td>\n      <td>...</td>\n    </tr>\n    <tr>\n      <th>858</th>\n      <td>858</td>\n      <td>Wrentham Public Water Supply</td>\n      <td>Wrentham</td>\n      <td>150000</td>\n      <td>DEP - Department Of Environmental Protection</td>\n      <td>steven.mccurdy@mass.gov</td>\n      <td>20000015</td>\n      <td>provided further, that not less than $150,000 ...</td>\n      <td>DEP</td>\n      <td>Environment, Research</td>\n      <td>...</td>\n      <td>False</td>\n      <td>False</td>\n      <td>False</td>\n      <td>False</td>\n      <td>False</td>\n      <td>False</td>\n      <td>False</td>\n      <td>False</td>\n      <td>False</td>\n      <td>True</td>\n    </tr>\n    <tr>\n      <th>859</th>\n      <td>859</td>\n      <td>Youth Community Center in Georgetown</td>\n      <td>Georgetown</td>\n      <td>25000</td>\n      <td>HED - Executive Office Of Economic Development</td>\n      <td>rory.c.ohanlon@mass.gov</td>\n      <td>70100013</td>\n      <td>provided further, that not less than $25,000 s...</td>\n      <td>HED</td>\n      <td>Youth Programs, Human Services</td>\n      <td>...</td>\n      <td>False</td>\n      <td>False</td>\n      <td>False</td>\n      <td>False</td>\n      <td>False</td>\n      <td>False</td>\n      <td>True</td>\n      <td>False</td>\n      <td>False</td>\n      <td>False</td>\n    </tr>\n    <tr>\n      <th>860</th>\n      <td>860</td>\n      <td>Youth Development in Lawrence</td>\n      <td>Lawrence</td>\n      <td>200000</td>\n      <td>LWD - Executive Office Of Labor And Workforce ...</td>\n      <td>sheila.l.tunney2@mass.gov</td>\n      <td>70100013</td>\n      <td>provided further, that not less than $200,000 ...</td>\n      <td>LWD</td>\n      <td>Youth Programs</td>\n      <td>...</td>\n      <td>False</td>\n      <td>False</td>\n      <td>False</td>\n      <td>False</td>\n      <td>False</td>\n      <td>False</td>\n      <td>True</td>\n      <td>False</td>\n      <td>False</td>\n      <td>False</td>\n    </tr>\n    <tr>\n      <th>861</th>\n      <td>861</td>\n      <td>YWCA Funding</td>\n      <td>Cambridge</td>\n      <td>4500000</td>\n      <td>HED - Executive Office Of Economic Development</td>\n      <td>rory.c.ohanlon@mass.gov</td>\n      <td>15992047</td>\n      <td>and provided further, that not less than $4,50...</td>\n      <td>HED</td>\n      <td>Economic, Maintenance, Human Services, Equalit...</td>\n      <td>...</td>\n      <td>False</td>\n      <td>False</td>\n      <td>False</td>\n      <td>False</td>\n      <td>False</td>\n      <td>False</td>\n      <td>False</td>\n      <td>False</td>\n      <td>True</td>\n      <td>False</td>\n    </tr>\n    <tr>\n      <th>862</th>\n      <td>862</td>\n      <td>Zeiterion Performing Arts Center</td>\n      <td>New Bedford</td>\n      <td>200000</td>\n      <td>MMP - Massachusetts Marketing Partnership</td>\n      <td>Phyllis.cahaly@mass.gov</td>\n      <td>15992043</td>\n      <td>provided further, that not less than $200,000 ...</td>\n      <td>MMP</td>\n      <td>Arts</td>\n      <td>...</td>\n      <td>False</td>\n      <td>False</td>\n      <td>False</td>\n      <td>False</td>\n      <td>False</td>\n      <td>False</td>\n      <td>False</td>\n      <td>False</td>\n      <td>False</td>\n      <td>False</td>\n    </tr>\n  </tbody>\n</table>\n<p>863 rows × 34 columns</p>\n</div>"
     },
     "execution_count": 15,
     "metadata": {},
     "output_type": "execute_result"
    }
   ],
   "source": [
    "# Agency cleanup -- removes the agency description and compresses down to the standard 3 word letter.\n",
    "\n",
    "def agency_code(row):\n",
    "    return row[\"Administering State Agency\"][:3]\n",
    "\n",
    "earmarks[\"Agency\"] = earmarks.apply (lambda row: agency_code(row), axis=1)\n",
    "earmarks[\"Administering State Agency\"].value_counts()\n",
    "earmarks\n",
    "# TODO: group by agency"
   ],
   "metadata": {
    "collapsed": false,
    "pycharm": {
     "name": "#%% Analyze money by state agencies\n"
    }
   }
  },
  {
   "cell_type": "markdown",
   "source": [],
   "metadata": {
    "collapsed": false,
    "pycharm": {
     "name": "#%% md\n"
    }
   }
  },
  {
   "cell_type": "markdown",
   "source": [
    "# Keyword & Category Matching\n",
    "The following cells below are all keywords to identify category matching. While there's a good list of keywords that will easily match below, I just wanted to give a quick rationale/things that you might find in these categories.\n",
    "\n",
    "### Categories\n",
    "#### Essentials\n",
    "- Health: Anything relating to COVID-19, healthcare, or protection related to COVID-19, like HVAC installation and testing.\n",
    "- Housing: All projects related to affordable housing, or other initiatives related to housing\n",
    "- Food: All projects related to food pantries or access to food\n",
    "\n",
    "#### Non-Essentials\n",
    "While the overarching category is non-essentials, they are more broader categories that should not necessarily have direct impacts from the pandemic; mostly these are initiatives for public services unrelated to the above\n",
    "- Arts: Mostly theater and stage productions, or other cultural initiatives. Includes Museums, Theaters, etc.\n",
    "- Construction: Any project related to construction\n",
    "- Economic: Business, commerce, or other economic incentives\n",
    "- Education: Anything related to Primary/Secondary education, or libraries\n",
    "- Environment: Many projects in these earmarks correlate to rehabilitation of beaches, or improvement of water or sewage networks.\n",
    "- Essential Services: Ironically, these are closer to improvements towards fire/police stations, not necessarily funding for them\n",
    "- Equality: Most projects that are geared towards minority groups or societies. Also includes advocacy groups and initiatives designed to bring up veterans.\n",
    "- Events: Things related to one-time events like parades, new years parties\n",
    "- Historical: You'd be surprised how many there are with just one keyword\n",
    "- Human Services: Any project relating to family, youth, teen, or public safety development.\n",
    "- Mental Health: Anything related to behavioral health\n",
    "- Occupational: Projects relating to job training or initiatives to help people find work\n",
    "- Recreation: Projects relating to recreational facilities such as parks, sports centers, and even sidewalks\n",
    "- Rehabilitation: Anything related to drug rehabilitation\n",
    "- Religious: Anything related to church or religious\n",
    "- Transport: All projects relating to transport. Keywords omit \"rail\" as many could be projects for rail trails.\n",
    "- Technology: Many projects in earmarks are related to upgrading facilities with new technology\n",
    "\n",
    "#### Accessibility, Maintenance and Research\n",
    "I've specifically separated these three as they're more broad reaching categories that could fit in any of the above. But these are really just improvements or studies.\n",
    "- Accessibility: Any project relating to improving the quality of life for handicap people\n",
    "- Maintenance: Any project relating to literally repairing, replacing, upgrading, restoring, improving, rebuilding, etc.\n",
    "- Research: Any project relating to a feasibility study or a normal study\n",
    "\n",
    "These categories are generally in flux as I add keywords to better represent all projects, and I will sometimes update manually to fix exceptions."
   ],
   "metadata": {
    "collapsed": false,
    "pycharm": {
     "name": "#%% md\n"
    }
   }
  },
  {
   "cell_type": "code",
   "execution_count": 16,
   "outputs": [],
   "source": [
    "# Keyword Matching\n",
    "\n",
    "# NOTE: the current, most updated earmarks_categories have also been manually scanned, and there are roughly 100 items not categorized through the systematic process or mistagged. While I intend to add more categories sometimes, bugs of old categorizing may still remain.\n",
    "\n",
    "keywords_to_categories = {\n",
    "\n",
    "    # essentials\n",
    "\n",
    "    \"Health\": [\"covid\", \"testing\", \"primary care\", \"HVAC\", \"health\", \"emergency\", \"paramedic\"],\n",
    "    \"Housing\": [\"housing\", \"home\", \"homeless\", \"relocation\"],\n",
    "    \"Food\": [\"food\", \"pantry\", \"servings\"],\n",
    "\n",
    "    # non-essentials\n",
    "\n",
    "    \"Arts\": [\"arts\", \"theater\", \"stage\", \"cultur\", \"museum\", \"exhibit\", \"media\"],\n",
    "    \"Construction\": [\"building\", \"construction\"],\n",
    "    \"Economic\": [\"commerce\", \"economic\", \"business\"],\n",
    "    \"Education\": [\"school\", \"library\", \"books\", \"tutoring\", \"education\", \"academic\"],\n",
    "    \"Environment\": [\"water\", \"beach\", \"sewer\", \"environment\", \"flood\", \"storm\", \"invasive species\", \"conservation\", \"wildlife\", \"climate\", \"solar\"],\n",
    "    \"Essential Services\": [\"police department\", \"fire department\"],\n",
    "    \"Equality\": [\"black\", \"asian\", \"women\", \"haiti\", \"hispanic\", \"latin\", \"LGBT\", \"seniors\", \"elders\", \"diversity\", \"veterans\", \"equity\", \"equality\", \"naacp\", \"caribbean\", \"legion\", \"disproportionate\", \"vfw\"],\n",
    "    \"Events\": [\"first night\", \"celebration\", \"parade\"],\n",
    "    \"Historical\": [\"historic\", \"history\", \" war \"],\n",
    "    \"Human Services\": [\"family\", \"elder\", \"senior\", \"aging\", \"public safety\", \"immigrant\", \"community center\", \"age\", \"veterinar\", \"translation\", \"domestic violence\"],\n",
    "    \"Mental Health\": [\"mental health\" \"behavioral health\"],\n",
    "    \"Occupational\": [\"training\", \"job\", \"work\"],\n",
    "    \"Recreation\": [\"park\", \"trail\", \"sidewalk\", \"garden\", \"tennis\", \"basketball\", \"soccer\", \"sports\", \"pond\", \"tree\", \"lighting\", \"walk\", \"arboretum\"],\n",
    "    \"Rehabilitation\": [\"addiction\", \"substance\"],\n",
    "    \"Religious\": [\"temple\", \"church\", \"ministry\", \"jewish\",],\n",
    "    \"Transport\": [\"transport\", \"vehicle\", \"road\", \"train\", \"bus\", \"route\"],\n",
    "    \"Technology\": [\"tech\", \" it \", \"tech\", \"paperless\", \"fiber optic\", \"cable\", \"broadband\", \"digital\", \"website\", \"wireless\", \"electric\", \"software\"],\n",
    "    \"Youth Programs\": [\"youth\", \"ymca\", \"boys and girls\", \"teen\", \"children\"],\n",
    "\n",
    "    # upkeep, research, acessibility\n",
    "    \"Accessibility\": [\"blind\", \"handicap\", \"ADA\", \"accessible\"],\n",
    "    \"Maintenance\": [\"maintenance\", \"repair\", \"replacement\", \"upgrade\", \"upkeep\", \"restoration\", \"improvement\", \"rebuild\", \"renovation\", \"preservation\", \"clean\"],\n",
    "    \"Research\": [\"research\", \"survey\", \"study\", \"assessment\", \"project\", \"design\", \"plan\"]\n",
    "}\n",
    "\n",
    "keywords = categories = keywords_to_categories.keys()\n"
   ],
   "metadata": {
    "collapsed": false,
    "pycharm": {
     "name": "#%%\n"
    }
   }
  },
  {
   "cell_type": "code",
   "execution_count": 17,
   "outputs": [],
   "source": [
    "# Matches keywords to earmarks function\n",
    "\n",
    "def match_keywords(row):\n",
    "    def in_category(keyword_list, text):\n",
    "        for k in keyword_list:\n",
    "            if k in text.lower():\n",
    "                return True\n",
    "        return False\n",
    "\n",
    "    desc = row[\"Earmark Description\"]\n",
    "    lang = row[\"Earmark Language\"]\n",
    "    desc_matches = set([k for k in keywords_to_categories if in_category(keywords_to_categories[k], desc)])\n",
    "    lang_matches = set([k for k in keywords_to_categories if in_category(keywords_to_categories[k], lang)])\n",
    "\n",
    "    return desc_matches.union(lang_matches)"
   ],
   "metadata": {
    "collapsed": false,
    "pycharm": {
     "name": "#%%\n"
    }
   }
  },
  {
   "cell_type": "code",
   "execution_count": 18,
   "outputs": [
    {
     "data": {
      "text/plain": "     Unnamed: 0                                Earmark Description  \\\n0             0  54th Massachusetts Reenactors and Historical S...   \n1             1                 A Street Pier Boat Ramp Rebuilding   \n2             2                   Abigail Adams Historical Society   \n3             3                Abington Housing Authority Upgrades   \n4             4                      Abington Utility Task Vehicle   \n..          ...                                                ...   \n858         858                       Wrentham Public Water Supply   \n859         859               Youth Community Center in Georgetown   \n860         860                      Youth Development in Lawrence   \n861         861                                       YWCA Funding   \n862         862                   Zeiterion Performing Arts Center   \n\n        Location   Amount                         Administering State Agency  \\\n0         Boston    25000          MMP - Massachusetts Marketing Partnership   \n1           Hull   150000    DCR - Department Of Conservation And Recreation   \n2       Weymouth    25000  ANF - Executive Office For Administration And ...   \n3       Abington    85000   DHCD - Dept Of Housing And Community Development   \n4       Abington    28000     HED - Executive Office Of Economic Development   \n..           ...      ...                                                ...   \n858     Wrentham   150000       DEP - Department Of Environmental Protection   \n859   Georgetown    25000     HED - Executive Office Of Economic Development   \n860     Lawrence   200000  LWD - Executive Office Of Labor And Workforce ...   \n861    Cambridge  4500000     HED - Executive Office Of Economic Development   \n862  New Bedford   200000          MMP - Massachusetts Marketing Partnership   \n\n          State Agency Contact  Account Number  \\\n0      Phyllis.cahaly@mass.gov        70021530   \n1     max.j.tassinari@mass.gov        15992031   \n2        daniel.shark@mass.gov        15992058   \n3          alain.fabo@mass.gov        70049318   \n4      rory.c.ohanlon@mass.gov        15992043   \n..                         ...             ...   \n858    steven.mccurdy@mass.gov        20000015   \n859    rory.c.ohanlon@mass.gov        70100013   \n860  sheila.l.tunney2@mass.gov        70100013   \n861    rory.c.ohanlon@mass.gov        15992047   \n862    Phyllis.cahaly@mass.gov        15992043   \n\n                                      Earmark Language Agency  \\\n0    provided further that not less than $25,000 sh...    MMP   \n1    provided further, that not less than $150,000 ...    DCR   \n2    provided further, that not less than $25,000 s...    ANF   \n3    provided further, that not less than $85,000 s...    DHC   \n4    provided further, that not less than $28,000 s...    HED   \n..                                                 ...    ...   \n858  provided further, that not less than $150,000 ...    DEP   \n859  provided further, that not less than $25,000 s...    HED   \n860  provided further, that not less than $200,000 ...    LWD   \n861  and provided further, that not less than $4,50...    HED   \n862  provided further, that not less than $200,000 ...    MMP   \n\n                                            Categories  ...  Occupational  \\\n0                                           Historical  ...         False   \n1                Construction, Recreation, Maintenance  ...         False   \n2                                           Historical  ...         False   \n3                                 Housing, Maintenance  ...         False   \n4                                            Transport  ...         False   \n..                                                 ...  ...           ...   \n858                              Environment, Research  ...         False   \n859                     Youth Programs, Human Services  ...         False   \n860                                     Youth Programs  ...         False   \n861  Maintenance, Equality, Arts, Human Services, E...  ...         False   \n862                                               Arts  ...         False   \n\n     Recreation  Rehabilitation  Religious  Transport  Technology  \\\n0         False           False      False      False       False   \n1          True           False      False      False       False   \n2         False           False      False      False       False   \n3         False           False      False      False       False   \n4         False           False      False       True       False   \n..          ...             ...        ...        ...         ...   \n858       False           False      False      False       False   \n859       False           False      False      False       False   \n860       False           False      False      False       False   \n861       False           False      False      False       False   \n862       False           False      False      False       False   \n\n     Youth Programs  Accessibility  Maintenance  Research  \n0             False          False        False     False  \n1             False          False         True     False  \n2             False          False        False     False  \n3             False          False         True     False  \n4             False          False        False     False  \n..              ...            ...          ...       ...  \n858           False          False        False      True  \n859            True          False        False     False  \n860            True          False        False     False  \n861           False          False         True     False  \n862           False          False        False     False  \n\n[863 rows x 34 columns]",
      "text/html": "<div>\n<style scoped>\n    .dataframe tbody tr th:only-of-type {\n        vertical-align: middle;\n    }\n\n    .dataframe tbody tr th {\n        vertical-align: top;\n    }\n\n    .dataframe thead th {\n        text-align: right;\n    }\n</style>\n<table border=\"1\" class=\"dataframe\">\n  <thead>\n    <tr style=\"text-align: right;\">\n      <th></th>\n      <th>Unnamed: 0</th>\n      <th>Earmark Description</th>\n      <th>Location</th>\n      <th>Amount</th>\n      <th>Administering State Agency</th>\n      <th>State Agency Contact</th>\n      <th>Account Number</th>\n      <th>Earmark Language</th>\n      <th>Agency</th>\n      <th>Categories</th>\n      <th>...</th>\n      <th>Occupational</th>\n      <th>Recreation</th>\n      <th>Rehabilitation</th>\n      <th>Religious</th>\n      <th>Transport</th>\n      <th>Technology</th>\n      <th>Youth Programs</th>\n      <th>Accessibility</th>\n      <th>Maintenance</th>\n      <th>Research</th>\n    </tr>\n  </thead>\n  <tbody>\n    <tr>\n      <th>0</th>\n      <td>0</td>\n      <td>54th Massachusetts Reenactors and Historical S...</td>\n      <td>Boston</td>\n      <td>25000</td>\n      <td>MMP - Massachusetts Marketing Partnership</td>\n      <td>Phyllis.cahaly@mass.gov</td>\n      <td>70021530</td>\n      <td>provided further that not less than $25,000 sh...</td>\n      <td>MMP</td>\n      <td>Historical</td>\n      <td>...</td>\n      <td>False</td>\n      <td>False</td>\n      <td>False</td>\n      <td>False</td>\n      <td>False</td>\n      <td>False</td>\n      <td>False</td>\n      <td>False</td>\n      <td>False</td>\n      <td>False</td>\n    </tr>\n    <tr>\n      <th>1</th>\n      <td>1</td>\n      <td>A Street Pier Boat Ramp Rebuilding</td>\n      <td>Hull</td>\n      <td>150000</td>\n      <td>DCR - Department Of Conservation And Recreation</td>\n      <td>max.j.tassinari@mass.gov</td>\n      <td>15992031</td>\n      <td>provided further, that not less than $150,000 ...</td>\n      <td>DCR</td>\n      <td>Construction, Recreation, Maintenance</td>\n      <td>...</td>\n      <td>False</td>\n      <td>True</td>\n      <td>False</td>\n      <td>False</td>\n      <td>False</td>\n      <td>False</td>\n      <td>False</td>\n      <td>False</td>\n      <td>True</td>\n      <td>False</td>\n    </tr>\n    <tr>\n      <th>2</th>\n      <td>2</td>\n      <td>Abigail Adams Historical Society</td>\n      <td>Weymouth</td>\n      <td>25000</td>\n      <td>ANF - Executive Office For Administration And ...</td>\n      <td>daniel.shark@mass.gov</td>\n      <td>15992058</td>\n      <td>provided further, that not less than $25,000 s...</td>\n      <td>ANF</td>\n      <td>Historical</td>\n      <td>...</td>\n      <td>False</td>\n      <td>False</td>\n      <td>False</td>\n      <td>False</td>\n      <td>False</td>\n      <td>False</td>\n      <td>False</td>\n      <td>False</td>\n      <td>False</td>\n      <td>False</td>\n    </tr>\n    <tr>\n      <th>3</th>\n      <td>3</td>\n      <td>Abington Housing Authority Upgrades</td>\n      <td>Abington</td>\n      <td>85000</td>\n      <td>DHCD - Dept Of Housing And Community Development</td>\n      <td>alain.fabo@mass.gov</td>\n      <td>70049318</td>\n      <td>provided further, that not less than $85,000 s...</td>\n      <td>DHC</td>\n      <td>Housing, Maintenance</td>\n      <td>...</td>\n      <td>False</td>\n      <td>False</td>\n      <td>False</td>\n      <td>False</td>\n      <td>False</td>\n      <td>False</td>\n      <td>False</td>\n      <td>False</td>\n      <td>True</td>\n      <td>False</td>\n    </tr>\n    <tr>\n      <th>4</th>\n      <td>4</td>\n      <td>Abington Utility Task Vehicle</td>\n      <td>Abington</td>\n      <td>28000</td>\n      <td>HED - Executive Office Of Economic Development</td>\n      <td>rory.c.ohanlon@mass.gov</td>\n      <td>15992043</td>\n      <td>provided further, that not less than $28,000 s...</td>\n      <td>HED</td>\n      <td>Transport</td>\n      <td>...</td>\n      <td>False</td>\n      <td>False</td>\n      <td>False</td>\n      <td>False</td>\n      <td>True</td>\n      <td>False</td>\n      <td>False</td>\n      <td>False</td>\n      <td>False</td>\n      <td>False</td>\n    </tr>\n    <tr>\n      <th>...</th>\n      <td>...</td>\n      <td>...</td>\n      <td>...</td>\n      <td>...</td>\n      <td>...</td>\n      <td>...</td>\n      <td>...</td>\n      <td>...</td>\n      <td>...</td>\n      <td>...</td>\n      <td>...</td>\n      <td>...</td>\n      <td>...</td>\n      <td>...</td>\n      <td>...</td>\n      <td>...</td>\n      <td>...</td>\n      <td>...</td>\n      <td>...</td>\n      <td>...</td>\n      <td>...</td>\n    </tr>\n    <tr>\n      <th>858</th>\n      <td>858</td>\n      <td>Wrentham Public Water Supply</td>\n      <td>Wrentham</td>\n      <td>150000</td>\n      <td>DEP - Department Of Environmental Protection</td>\n      <td>steven.mccurdy@mass.gov</td>\n      <td>20000015</td>\n      <td>provided further, that not less than $150,000 ...</td>\n      <td>DEP</td>\n      <td>Environment, Research</td>\n      <td>...</td>\n      <td>False</td>\n      <td>False</td>\n      <td>False</td>\n      <td>False</td>\n      <td>False</td>\n      <td>False</td>\n      <td>False</td>\n      <td>False</td>\n      <td>False</td>\n      <td>True</td>\n    </tr>\n    <tr>\n      <th>859</th>\n      <td>859</td>\n      <td>Youth Community Center in Georgetown</td>\n      <td>Georgetown</td>\n      <td>25000</td>\n      <td>HED - Executive Office Of Economic Development</td>\n      <td>rory.c.ohanlon@mass.gov</td>\n      <td>70100013</td>\n      <td>provided further, that not less than $25,000 s...</td>\n      <td>HED</td>\n      <td>Youth Programs, Human Services</td>\n      <td>...</td>\n      <td>False</td>\n      <td>False</td>\n      <td>False</td>\n      <td>False</td>\n      <td>False</td>\n      <td>False</td>\n      <td>True</td>\n      <td>False</td>\n      <td>False</td>\n      <td>False</td>\n    </tr>\n    <tr>\n      <th>860</th>\n      <td>860</td>\n      <td>Youth Development in Lawrence</td>\n      <td>Lawrence</td>\n      <td>200000</td>\n      <td>LWD - Executive Office Of Labor And Workforce ...</td>\n      <td>sheila.l.tunney2@mass.gov</td>\n      <td>70100013</td>\n      <td>provided further, that not less than $200,000 ...</td>\n      <td>LWD</td>\n      <td>Youth Programs</td>\n      <td>...</td>\n      <td>False</td>\n      <td>False</td>\n      <td>False</td>\n      <td>False</td>\n      <td>False</td>\n      <td>False</td>\n      <td>True</td>\n      <td>False</td>\n      <td>False</td>\n      <td>False</td>\n    </tr>\n    <tr>\n      <th>861</th>\n      <td>861</td>\n      <td>YWCA Funding</td>\n      <td>Cambridge</td>\n      <td>4500000</td>\n      <td>HED - Executive Office Of Economic Development</td>\n      <td>rory.c.ohanlon@mass.gov</td>\n      <td>15992047</td>\n      <td>and provided further, that not less than $4,50...</td>\n      <td>HED</td>\n      <td>Maintenance, Equality, Arts, Human Services, E...</td>\n      <td>...</td>\n      <td>False</td>\n      <td>False</td>\n      <td>False</td>\n      <td>False</td>\n      <td>False</td>\n      <td>False</td>\n      <td>False</td>\n      <td>False</td>\n      <td>True</td>\n      <td>False</td>\n    </tr>\n    <tr>\n      <th>862</th>\n      <td>862</td>\n      <td>Zeiterion Performing Arts Center</td>\n      <td>New Bedford</td>\n      <td>200000</td>\n      <td>MMP - Massachusetts Marketing Partnership</td>\n      <td>Phyllis.cahaly@mass.gov</td>\n      <td>15992043</td>\n      <td>provided further, that not less than $200,000 ...</td>\n      <td>MMP</td>\n      <td>Arts</td>\n      <td>...</td>\n      <td>False</td>\n      <td>False</td>\n      <td>False</td>\n      <td>False</td>\n      <td>False</td>\n      <td>False</td>\n      <td>False</td>\n      <td>False</td>\n      <td>False</td>\n      <td>False</td>\n    </tr>\n  </tbody>\n</table>\n<p>863 rows × 34 columns</p>\n</div>"
     },
     "execution_count": 18,
     "metadata": {},
     "output_type": "execute_result"
    }
   ],
   "source": [
    "# Matching keywords to categories, new column for categories\n",
    "\n",
    "f = lambda x: ', '.join(str(k) for k in match_keywords(x))\n",
    "cats = earmarks.apply(f, axis=1)\n",
    "earmarks[\"Categories\"] = cats\n",
    "earmarks"
   ],
   "metadata": {
    "collapsed": false,
    "pycharm": {
     "name": "#%%\n"
    }
   }
  },
  {
   "cell_type": "code",
   "execution_count": 19,
   "outputs": [
    {
     "name": "stdout",
     "output_type": "stream",
     "text": [
      "{'Greater Boston': 'Boston', 'Padanram': 'Dartmouth', 'MetroWest': 'Framingham', 'Natick & Framingham': 'Framingham', 'Western Mass': 'Hatfield', 'Hilltown': 'Huntington', 'Malden & Revere': 'Malden', 'Burnham': 'Methuen', 'Amesbury, Lawrence': 'Newburyport', 'Nashoba Valley': 'Westford', 'County subdivisions not defined, Barnstable County, Massachusetts': 'County subdivisions not defined, Barnstable County, Massachusetts', 'Barnstable': 'Barnstable', 'Bourne': 'Bourne', 'Brewster': 'Brewster', 'Chatham': 'Chatham', 'Dennis': 'Dennis', 'Eastham': 'Eastham', 'Falmouth': 'Falmouth', 'Harwich': 'Harwich', 'Mashpee': 'Mashpee', 'Orleans': 'Orleans', 'Provincetown': 'Provincetown', 'Sandwich': 'Sandwich', 'Truro': 'Truro', 'Wellfleet': 'Wellfleet', 'Yarmouth': 'Yarmouth', 'Adams': 'Adams', 'Alford': 'Alford', 'Becket': 'Becket', 'Cheshire': 'Cheshire', 'Clarksburg': 'Clarksburg', 'Dalton': 'Dalton', 'Egremont': 'Egremont', 'Florida': 'Florida', 'Great Barrington': 'Great Barrington', 'Hancock': 'Hancock', 'Hinsdale': 'Hinsdale', 'Lanesborough': 'Lanesborough', 'Lee': 'Lee', 'Lenox': 'Lenox', 'Monterey': 'Monterey', 'Mount Washington': 'Mount Washington', 'New Ashford': 'New Ashford', 'New Marlborough': 'New Marlborough', 'North Adams': 'North Adams', 'Otis': 'Otis', 'Peru': 'Peru', 'Pittsfield': 'Pittsfield', 'Richmond': 'Richmond', 'Sandisfield': 'Sandisfield', 'Savoy': 'Savoy', 'Sheffield': 'Sheffield', 'Stockbridge': 'Stockbridge', 'Tyringham': 'Tyringham', 'Washington': 'Washington', 'West Stockbridge': 'West Stockbridge', 'Williamstown': 'Williamstown', 'Windsor': 'Windsor', 'County subdivisions not defined, Bristol County, Massachusetts': 'County subdivisions not defined, Bristol County, Massachusetts', 'Acushnet': 'Acushnet', 'Attleboro': 'Attleboro', 'Berkley': 'Berkley', 'Dartmouth': 'Dartmouth', 'Dighton': 'Dighton', 'Easton': 'Easton', 'Fairhaven': 'Fairhaven', 'Fall River': 'Fall River', 'Freetown': 'Freetown', 'Mansfield': 'Mansfield', 'New Bedford': 'New Bedford', 'North Attleborough': 'North Attleborough', 'Norton': 'Norton', 'Raynham': 'Raynham', 'Rehoboth': 'Rehoboth', 'Seekonk': 'Seekonk', 'Somerset': 'Somerset', 'Swansea': 'Swansea', 'Taunton': 'Taunton', 'Westport': 'Westport', 'Aquinnah': 'Aquinnah', 'Chilmark': 'Chilmark', 'Edgartown': 'Edgartown', 'Gosnold': 'Gosnold', 'Oak Bluffs': 'Oak Bluffs', 'Tisbury': 'Tisbury', 'West Tisbury': 'West Tisbury', 'County subdivisions not defined, Essex County, Massachusetts': 'County subdivisions not defined, Essex County, Massachusetts', 'Amesbury': 'Amesbury', 'Andover': 'Andover', 'Beverly': 'Beverly', 'Boxford': 'Boxford', 'Danvers': 'Danvers', 'Essex': 'Essex', 'Georgetown': 'Georgetown', 'Gloucester': 'Gloucester', 'Groveland': 'Groveland', 'Hamilton': 'Hamilton', 'Haverhill': 'Haverhill', 'Ipswich': 'Ipswich', 'Lawrence': 'Lawrence', 'Lynn': 'Lynn', 'Lynnfield': 'Lynnfield', 'Manchester-by-the-Sea': 'Manchester-by-the-Sea', 'Marblehead': 'Marblehead', 'Merrimac': 'Merrimac', 'Methuen': 'Methuen', 'Middleton': 'Middleton', 'Nahant': 'Nahant', 'Newbury': 'Newbury', 'Newburyport': 'Newburyport', 'North Andover': 'North Andover', 'Peabody': 'Peabody', 'Rockport': 'Rockport', 'Rowley': 'Rowley', 'Salem': 'Salem', 'Salisbury': 'Salisbury', 'Saugus': 'Saugus', 'Swampscott': 'Swampscott', 'Topsfield': 'Topsfield', 'Wenham': 'Wenham', 'West Newbury': 'West Newbury', 'Ashfield': 'Ashfield', 'Bernardston': 'Bernardston', 'Buckland': 'Buckland', 'Charlemont': 'Charlemont', 'Colrain': 'Colrain', 'Conway': 'Conway', 'Deerfield': 'Deerfield', 'Erving': 'Erving', 'Gill': 'Gill', 'Greenfield': 'Greenfield', 'Hawley': 'Hawley', 'Heath': 'Heath', 'Leverett': 'Leverett', 'Leyden': 'Leyden', 'Monroe': 'Monroe', 'Montague': 'Montague', 'New Salem': 'New Salem', 'Northfield': 'Northfield', 'Orange': 'Orange', 'Rowe': 'Rowe', 'Shelburne': 'Shelburne', 'Shutesbury': 'Shutesbury', 'Sunderland': 'Sunderland', 'Warwick': 'Warwick', 'Wendell': 'Wendell', 'Whately': 'Whately', 'Agawam': 'Agawam', 'Blandford': 'Blandford', 'Brimfield': 'Brimfield', 'Chester': 'Chester', 'Chicopee': 'Chicopee', 'East Longmeadow': 'East Longmeadow', 'Granville': 'Granville', 'Hampden': 'Hampden', 'Holland': 'Holland', 'Holyoke': 'Holyoke', 'Longmeadow': 'Longmeadow', 'Ludlow': 'Ludlow', 'Monson': 'Monson', 'Montgomery': 'Montgomery', 'Palmer': 'Palmer', 'Russell': 'Russell', 'Southwick': 'Southwick', 'Springfield': 'Springfield', 'Tolland': 'Tolland', 'Wales': 'Wales', 'Westfield': 'Westfield', 'West Springfield': 'West Springfield', 'Wilbraham': 'Wilbraham', 'Amherst': 'Amherst', 'Belchertown': 'Belchertown', 'Chesterfield': 'Chesterfield', 'Cummington': 'Cummington', 'Easthampton': 'Easthampton', 'Goshen': 'Goshen', 'Granby': 'Granby', 'Hadley': 'Hadley', 'Hatfield': 'Hatfield', 'Huntington': 'Huntington', 'Middlefield': 'Middlefield', 'Northampton': 'Northampton', 'Pelham': 'Pelham', 'Plainfield': 'Plainfield', 'Southampton': 'Southampton', 'South Hadley': 'South Hadley', 'Ware': 'Ware', 'Westhampton': 'Westhampton', 'Williamsburg': 'Williamsburg', 'Worthington': 'Worthington', 'Acton': 'Acton', 'Arlington': 'Arlington', 'Ashby': 'Ashby', 'Ashland': 'Ashland', 'Ayer': 'Ayer', 'Bedford': 'Bedford', 'Belmont': 'Belmont', 'Billerica': 'Billerica', 'Boxborough': 'Boxborough', 'Burlington': 'Burlington', 'Cambridge': 'Cambridge', 'Carlisle': 'Carlisle', 'Chelmsford': 'Chelmsford', 'Concord': 'Concord', 'Dracut': 'Dracut', 'Dunstable': 'Dunstable', 'Everett': 'Everett', 'Framingham': 'Framingham', 'Groton': 'Groton', 'Holliston': 'Holliston', 'Hopkinton': 'Hopkinton', 'Hudson': 'Hudson', 'Lexington': 'Lexington', 'Lincoln': 'Lincoln', 'Littleton': 'Littleton', 'Lowell': 'Lowell', 'Malden': 'Malden', 'Marlborough': 'Marlborough', 'Maynard': 'Maynard', 'Medford': 'Medford', 'Melrose': 'Melrose', 'Natick': 'Natick', 'Newton': 'Newton', 'North Reading': 'North Reading', 'Pepperell': 'Pepperell', 'Reading': 'Reading', 'Sherborn': 'Sherborn', 'Shirley': 'Shirley', 'Somerville': 'Somerville', 'Stoneham': 'Stoneham', 'Stow': 'Stow', 'Sudbury': 'Sudbury', 'Tewksbury': 'Tewksbury', 'Townsend': 'Townsend', 'Tyngsborough': 'Tyngsborough', 'Wakefield': 'Wakefield', 'Waltham': 'Waltham', 'Watertown': 'Watertown', 'Wayland': 'Wayland', 'Westford': 'Westford', 'Weston': 'Weston', 'Wilmington': 'Wilmington', 'Winchester': 'Winchester', 'Woburn': 'Woburn', 'County subdivisions not defined, Nantucket County, Massachusetts': 'County subdivisions not defined, Nantucket County, Massachusetts', 'Nantucket': 'Nantucket', 'Avon': 'Avon', 'Bellingham': 'Bellingham', 'Braintree': 'Braintree', 'Brookline': 'Brookline', 'Canton': 'Canton', 'Cohasset': 'Cohasset', 'Dedham': 'Dedham', 'Dover': 'Dover', 'Foxborough': 'Foxborough', 'Franklin': 'Franklin', 'Holbrook': 'Holbrook', 'Medfield': 'Medfield', 'Medway': 'Medway', 'Millis': 'Millis', 'Milton': 'Milton', 'Needham': 'Needham', 'Norfolk': 'Norfolk', 'Norwood': 'Norwood', 'Plainville': 'Plainville', 'Quincy': 'Quincy', 'Randolph': 'Randolph', 'Sharon': 'Sharon', 'Stoughton': 'Stoughton', 'Walpole': 'Walpole', 'Wellesley': 'Wellesley', 'Westwood': 'Westwood', 'Weymouth': 'Weymouth', 'Wrentham': 'Wrentham', 'County subdivisions not defined, Plymouth County, Massachusetts': 'County subdivisions not defined, Plymouth County, Massachusetts', 'Abington': 'Abington', 'Bridgewater': 'Bridgewater', 'Brockton': 'Brockton', 'Carver': 'Carver', 'Duxbury': 'Duxbury', 'East Bridgewater': 'East Bridgewater', 'Halifax': 'Halifax', 'Hanover': 'Hanover', 'Hanson': 'Hanson', 'Hingham': 'Hingham', 'Hull': 'Hull', 'Kingston': 'Kingston', 'Lakeville': 'Lakeville', 'Marion': 'Marion', 'Marshfield': 'Marshfield', 'Mattapoisett': 'Mattapoisett', 'Middleborough': 'Middleborough', 'Norwell': 'Norwell', 'Pembroke': 'Pembroke', 'Plymouth': 'Plymouth', 'Plympton': 'Plympton', 'Rochester': 'Rochester', 'Rockland': 'Rockland', 'Scituate': 'Scituate', 'Wareham': 'Wareham', 'West Bridgewater': 'West Bridgewater', 'Whitman': 'Whitman', 'County subdivisions not defined, Suffolk County, Massachusetts': 'County subdivisions not defined, Suffolk County, Massachusetts', 'Boston': 'Boston', 'Chelsea': 'Chelsea', 'Revere': 'Revere', 'Winthrop': 'Winthrop', 'Ashburnham': 'Ashburnham', 'Athol': 'Athol', 'Auburn': 'Auburn', 'Barre': 'Barre', 'Berlin': 'Berlin', 'Blackstone': 'Blackstone', 'Bolton': 'Bolton', 'Boylston': 'Boylston', 'Brookfield': 'Brookfield', 'Charlton': 'Charlton', 'Clinton': 'Clinton', 'Douglas': 'Douglas', 'Dudley': 'Dudley', 'East Brookfield': 'East Brookfield', 'Fitchburg': 'Fitchburg', 'Gardner': 'Gardner', 'Grafton': 'Grafton', 'Hardwick': 'Hardwick', 'Harvard': 'Harvard', 'Holden': 'Holden', 'Hopedale': 'Hopedale', 'Hubbardston': 'Hubbardston', 'Lancaster': 'Lancaster', 'Leicester': 'Leicester', 'Leominster': 'Leominster', 'Lunenburg': 'Lunenburg', 'Mendon': 'Mendon', 'Milford': 'Milford', 'Millbury': 'Millbury', 'Millville': 'Millville', 'New Braintree': 'New Braintree', 'Northborough': 'Northborough', 'Northbridge': 'Northbridge', 'North Brookfield': 'North Brookfield', 'Oakham': 'Oakham', 'Oxford': 'Oxford', 'Paxton': 'Paxton', 'Petersham': 'Petersham', 'Phillipston': 'Phillipston', 'Princeton': 'Princeton', 'Royalston': 'Royalston', 'Rutland': 'Rutland', 'Shrewsbury': 'Shrewsbury', 'Southborough': 'Southborough', 'Southbridge': 'Southbridge', 'Spencer': 'Spencer', 'Sterling': 'Sterling', 'Sturbridge': 'Sturbridge', 'Sutton': 'Sutton', 'Templeton': 'Templeton', 'Upton': 'Upton', 'Uxbridge': 'Uxbridge', 'Warren': 'Warren', 'Webster': 'Webster', 'Westborough': 'Westborough', 'West Boylston': 'West Boylston', 'West Brookfield': 'West Brookfield', 'Westminster': 'Westminster', 'Winchendon': 'Winchendon', 'Worcester': 'Worcester'}\n"
     ]
    }
   ],
   "source": [
    "# Quick outputs and fix locations\n",
    "\n",
    "# for cat in categories:\n",
    "#     earmarks[cat] = earmarks[\"Categories\"].str.contains(cat)\n",
    "\n",
    "# Fix towns\n",
    "town_fixes = {\"Greater Boston\": \"Boston\",\n",
    "         \"Padanram\": \"Dartmouth\",\n",
    "         \"MetroWest\": \"Framingham\",\n",
    "         \"Natick & Framingham\": \"Framingham\",\n",
    "         \"Western Mass\": \"Hatfield\",\n",
    "         \"Hilltown\": \"Huntington\",\n",
    "         \"Malden & Revere\": \"Malden\",\n",
    "         \"Burnham\": \"Methuen\",\n",
    "         \"Amesbury, Lawrence\": \"Newburyport\",\n",
    "         \"Nashoba Valley\": \"Westford\"}\n",
    "\n",
    "town_new_names = {new_names[k]: new_names[k] for k in new_names}\n",
    "\n",
    "town_fixes.update(town_new_names) # adds all old names from before\n",
    "\n",
    "print(town_fixes)\n",
    "\n",
    "# Rematch towns\n",
    "earmarks[\"Location\"] = earmarks[\"Location\"].map(town_fixes, na_action=\"ignore\")\n",
    "\n",
    "# DO NOT UNCOMMENT THE FOLLOWING LINES UNLESS YOU INTEND TO REFRESH ALL ITEMS' CATEGORIES!\n",
    "\n",
    "# earmarks.to_csv(path_or_buf=\"out/earmarks_categories.csv\")\n",
    "# earmarks.loc[pd.isna(earmarks[\"Location\"])].to_csv(path_or_buf=\"out/earmarks_without_towns.csv\")"
   ],
   "metadata": {
    "collapsed": false,
    "pycharm": {
     "name": "#%%\n"
    }
   }
  },
  {
   "cell_type": "markdown",
   "source": [
    "# Amendment additions\n",
    "\n",
    "Amendments were proposed to this bill and we need to actually account for these -- the sheet at amendments.xlsx has four categories and various people proposing each item"
   ],
   "metadata": {
    "collapsed": false
   }
  },
  {
   "cell_type": "code",
   "execution_count": 20,
   "outputs": [
    {
     "name": "stdout",
     "output_type": "stream",
     "text": [
      "307\n"
     ]
    },
    {
     "ename": "KeyError",
     "evalue": "\"['amdt_match'] not found in axis\"",
     "output_type": "error",
     "traceback": [
      "\u001B[0;31m---------------------------------------------------------------------------\u001B[0m",
      "\u001B[0;31mKeyError\u001B[0m                                  Traceback (most recent call last)",
      "Input \u001B[0;32mIn [20]\u001B[0m, in \u001B[0;36m<cell line: 42>\u001B[0;34m()\u001B[0m\n\u001B[1;32m     40\u001B[0m earmarks_amdts\u001B[38;5;241m.\u001B[39mto_excel(\u001B[38;5;124m\"\u001B[39m\u001B[38;5;124mout/amendments_to_legis.xlsx\u001B[39m\u001B[38;5;124m\"\u001B[39m)\n\u001B[1;32m     41\u001B[0m \u001B[38;5;28mprint\u001B[39m(\u001B[38;5;28mlen\u001B[39m(earmarks_amdts))\n\u001B[0;32m---> 42\u001B[0m \u001B[43mearmarks\u001B[49m\u001B[38;5;241;43m.\u001B[39;49m\u001B[43mdrop\u001B[49m\u001B[43m(\u001B[49m\u001B[38;5;124;43m\"\u001B[39;49m\u001B[38;5;124;43mamdt_match\u001B[39;49m\u001B[38;5;124;43m\"\u001B[39;49m\u001B[43m)\u001B[49m\n",
      "File \u001B[0;32m~/lib/python3.9/site-packages/pandas/util/_decorators.py:311\u001B[0m, in \u001B[0;36mdeprecate_nonkeyword_arguments.<locals>.decorate.<locals>.wrapper\u001B[0;34m(*args, **kwargs)\u001B[0m\n\u001B[1;32m    305\u001B[0m \u001B[38;5;28;01mif\u001B[39;00m \u001B[38;5;28mlen\u001B[39m(args) \u001B[38;5;241m>\u001B[39m num_allow_args:\n\u001B[1;32m    306\u001B[0m     warnings\u001B[38;5;241m.\u001B[39mwarn(\n\u001B[1;32m    307\u001B[0m         msg\u001B[38;5;241m.\u001B[39mformat(arguments\u001B[38;5;241m=\u001B[39marguments),\n\u001B[1;32m    308\u001B[0m         \u001B[38;5;167;01mFutureWarning\u001B[39;00m,\n\u001B[1;32m    309\u001B[0m         stacklevel\u001B[38;5;241m=\u001B[39mstacklevel,\n\u001B[1;32m    310\u001B[0m     )\n\u001B[0;32m--> 311\u001B[0m \u001B[38;5;28;01mreturn\u001B[39;00m \u001B[43mfunc\u001B[49m\u001B[43m(\u001B[49m\u001B[38;5;241;43m*\u001B[39;49m\u001B[43margs\u001B[49m\u001B[43m,\u001B[49m\u001B[43m \u001B[49m\u001B[38;5;241;43m*\u001B[39;49m\u001B[38;5;241;43m*\u001B[39;49m\u001B[43mkwargs\u001B[49m\u001B[43m)\u001B[49m\n",
      "File \u001B[0;32m~/lib/python3.9/site-packages/pandas/core/frame.py:4948\u001B[0m, in \u001B[0;36mDataFrame.drop\u001B[0;34m(self, labels, axis, index, columns, level, inplace, errors)\u001B[0m\n\u001B[1;32m   4800\u001B[0m \u001B[38;5;129m@deprecate_nonkeyword_arguments\u001B[39m(version\u001B[38;5;241m=\u001B[39m\u001B[38;5;28;01mNone\u001B[39;00m, allowed_args\u001B[38;5;241m=\u001B[39m[\u001B[38;5;124m\"\u001B[39m\u001B[38;5;124mself\u001B[39m\u001B[38;5;124m\"\u001B[39m, \u001B[38;5;124m\"\u001B[39m\u001B[38;5;124mlabels\u001B[39m\u001B[38;5;124m\"\u001B[39m])\n\u001B[1;32m   4801\u001B[0m \u001B[38;5;28;01mdef\u001B[39;00m \u001B[38;5;21mdrop\u001B[39m(\n\u001B[1;32m   4802\u001B[0m     \u001B[38;5;28mself\u001B[39m,\n\u001B[0;32m   (...)\u001B[0m\n\u001B[1;32m   4809\u001B[0m     errors: \u001B[38;5;28mstr\u001B[39m \u001B[38;5;241m=\u001B[39m \u001B[38;5;124m\"\u001B[39m\u001B[38;5;124mraise\u001B[39m\u001B[38;5;124m\"\u001B[39m,\n\u001B[1;32m   4810\u001B[0m ):\n\u001B[1;32m   4811\u001B[0m     \u001B[38;5;124;03m\"\"\"\u001B[39;00m\n\u001B[1;32m   4812\u001B[0m \u001B[38;5;124;03m    Drop specified labels from rows or columns.\u001B[39;00m\n\u001B[1;32m   4813\u001B[0m \n\u001B[0;32m   (...)\u001B[0m\n\u001B[1;32m   4946\u001B[0m \u001B[38;5;124;03m            weight  1.0     0.8\u001B[39;00m\n\u001B[1;32m   4947\u001B[0m \u001B[38;5;124;03m    \"\"\"\u001B[39;00m\n\u001B[0;32m-> 4948\u001B[0m     \u001B[38;5;28;01mreturn\u001B[39;00m \u001B[38;5;28;43msuper\u001B[39;49m\u001B[43m(\u001B[49m\u001B[43m)\u001B[49m\u001B[38;5;241;43m.\u001B[39;49m\u001B[43mdrop\u001B[49m\u001B[43m(\u001B[49m\n\u001B[1;32m   4949\u001B[0m \u001B[43m        \u001B[49m\u001B[43mlabels\u001B[49m\u001B[38;5;241;43m=\u001B[39;49m\u001B[43mlabels\u001B[49m\u001B[43m,\u001B[49m\n\u001B[1;32m   4950\u001B[0m \u001B[43m        \u001B[49m\u001B[43maxis\u001B[49m\u001B[38;5;241;43m=\u001B[39;49m\u001B[43maxis\u001B[49m\u001B[43m,\u001B[49m\n\u001B[1;32m   4951\u001B[0m \u001B[43m        \u001B[49m\u001B[43mindex\u001B[49m\u001B[38;5;241;43m=\u001B[39;49m\u001B[43mindex\u001B[49m\u001B[43m,\u001B[49m\n\u001B[1;32m   4952\u001B[0m \u001B[43m        \u001B[49m\u001B[43mcolumns\u001B[49m\u001B[38;5;241;43m=\u001B[39;49m\u001B[43mcolumns\u001B[49m\u001B[43m,\u001B[49m\n\u001B[1;32m   4953\u001B[0m \u001B[43m        \u001B[49m\u001B[43mlevel\u001B[49m\u001B[38;5;241;43m=\u001B[39;49m\u001B[43mlevel\u001B[49m\u001B[43m,\u001B[49m\n\u001B[1;32m   4954\u001B[0m \u001B[43m        \u001B[49m\u001B[43minplace\u001B[49m\u001B[38;5;241;43m=\u001B[39;49m\u001B[43minplace\u001B[49m\u001B[43m,\u001B[49m\n\u001B[1;32m   4955\u001B[0m \u001B[43m        \u001B[49m\u001B[43merrors\u001B[49m\u001B[38;5;241;43m=\u001B[39;49m\u001B[43merrors\u001B[49m\u001B[43m,\u001B[49m\n\u001B[1;32m   4956\u001B[0m \u001B[43m    \u001B[49m\u001B[43m)\u001B[49m\n",
      "File \u001B[0;32m~/lib/python3.9/site-packages/pandas/core/generic.py:4279\u001B[0m, in \u001B[0;36mNDFrame.drop\u001B[0;34m(self, labels, axis, index, columns, level, inplace, errors)\u001B[0m\n\u001B[1;32m   4277\u001B[0m \u001B[38;5;28;01mfor\u001B[39;00m axis, labels \u001B[38;5;129;01min\u001B[39;00m axes\u001B[38;5;241m.\u001B[39mitems():\n\u001B[1;32m   4278\u001B[0m     \u001B[38;5;28;01mif\u001B[39;00m labels \u001B[38;5;129;01mis\u001B[39;00m \u001B[38;5;129;01mnot\u001B[39;00m \u001B[38;5;28;01mNone\u001B[39;00m:\n\u001B[0;32m-> 4279\u001B[0m         obj \u001B[38;5;241m=\u001B[39m \u001B[43mobj\u001B[49m\u001B[38;5;241;43m.\u001B[39;49m\u001B[43m_drop_axis\u001B[49m\u001B[43m(\u001B[49m\u001B[43mlabels\u001B[49m\u001B[43m,\u001B[49m\u001B[43m \u001B[49m\u001B[43maxis\u001B[49m\u001B[43m,\u001B[49m\u001B[43m \u001B[49m\u001B[43mlevel\u001B[49m\u001B[38;5;241;43m=\u001B[39;49m\u001B[43mlevel\u001B[49m\u001B[43m,\u001B[49m\u001B[43m \u001B[49m\u001B[43merrors\u001B[49m\u001B[38;5;241;43m=\u001B[39;49m\u001B[43merrors\u001B[49m\u001B[43m)\u001B[49m\n\u001B[1;32m   4281\u001B[0m \u001B[38;5;28;01mif\u001B[39;00m inplace:\n\u001B[1;32m   4282\u001B[0m     \u001B[38;5;28mself\u001B[39m\u001B[38;5;241m.\u001B[39m_update_inplace(obj)\n",
      "File \u001B[0;32m~/lib/python3.9/site-packages/pandas/core/generic.py:4323\u001B[0m, in \u001B[0;36mNDFrame._drop_axis\u001B[0;34m(self, labels, axis, level, errors, consolidate, only_slice)\u001B[0m\n\u001B[1;32m   4321\u001B[0m         new_axis \u001B[38;5;241m=\u001B[39m axis\u001B[38;5;241m.\u001B[39mdrop(labels, level\u001B[38;5;241m=\u001B[39mlevel, errors\u001B[38;5;241m=\u001B[39merrors)\n\u001B[1;32m   4322\u001B[0m     \u001B[38;5;28;01melse\u001B[39;00m:\n\u001B[0;32m-> 4323\u001B[0m         new_axis \u001B[38;5;241m=\u001B[39m \u001B[43maxis\u001B[49m\u001B[38;5;241;43m.\u001B[39;49m\u001B[43mdrop\u001B[49m\u001B[43m(\u001B[49m\u001B[43mlabels\u001B[49m\u001B[43m,\u001B[49m\u001B[43m \u001B[49m\u001B[43merrors\u001B[49m\u001B[38;5;241;43m=\u001B[39;49m\u001B[43merrors\u001B[49m\u001B[43m)\u001B[49m\n\u001B[1;32m   4324\u001B[0m     indexer \u001B[38;5;241m=\u001B[39m axis\u001B[38;5;241m.\u001B[39mget_indexer(new_axis)\n\u001B[1;32m   4326\u001B[0m \u001B[38;5;66;03m# Case for non-unique axis\u001B[39;00m\n\u001B[1;32m   4327\u001B[0m \u001B[38;5;28;01melse\u001B[39;00m:\n",
      "File \u001B[0;32m~/lib/python3.9/site-packages/pandas/core/indexes/base.py:6644\u001B[0m, in \u001B[0;36mIndex.drop\u001B[0;34m(self, labels, errors)\u001B[0m\n\u001B[1;32m   6642\u001B[0m \u001B[38;5;28;01mif\u001B[39;00m mask\u001B[38;5;241m.\u001B[39many():\n\u001B[1;32m   6643\u001B[0m     \u001B[38;5;28;01mif\u001B[39;00m errors \u001B[38;5;241m!=\u001B[39m \u001B[38;5;124m\"\u001B[39m\u001B[38;5;124mignore\u001B[39m\u001B[38;5;124m\"\u001B[39m:\n\u001B[0;32m-> 6644\u001B[0m         \u001B[38;5;28;01mraise\u001B[39;00m \u001B[38;5;167;01mKeyError\u001B[39;00m(\u001B[38;5;124mf\u001B[39m\u001B[38;5;124m\"\u001B[39m\u001B[38;5;132;01m{\u001B[39;00m\u001B[38;5;28mlist\u001B[39m(labels[mask])\u001B[38;5;132;01m}\u001B[39;00m\u001B[38;5;124m not found in axis\u001B[39m\u001B[38;5;124m\"\u001B[39m)\n\u001B[1;32m   6645\u001B[0m     indexer \u001B[38;5;241m=\u001B[39m indexer[\u001B[38;5;241m~\u001B[39mmask]\n\u001B[1;32m   6646\u001B[0m \u001B[38;5;28;01mreturn\u001B[39;00m \u001B[38;5;28mself\u001B[39m\u001B[38;5;241m.\u001B[39mdelete(indexer)\n",
      "\u001B[0;31mKeyError\u001B[0m: \"['amdt_match'] not found in axis\""
     ]
    }
   ],
   "source": [
    "# This refreshes the earmarks & populations dataframes!!!\n",
    "\n",
    "house_amends = pd.read_excel(\"data/amendments_house.xlsx\")\n",
    "senate_amends = pd.read_excel(\"data/amendments_senate.xlsx\")\n",
    "senate_amends = senate_amends.rename(columns={\"Category\": \"Subject\", \"Bundle\": \"Consolidated Amendment\"})\n",
    "\n",
    "amendments = pd.concat([house_amends, senate_amends])\n",
    "\n",
    "earmarks = pd.read_csv(\"out/earmarks_categories.csv\")\n",
    "population = pd.read_csv(\"data/cities.csv\")\n",
    "# amendments\n",
    "\n",
    "amendments_consol = amendments.loc[amendments[\"Status\"] == \"Consolidated\"]\n",
    "amendments_adopt =  amendments.loc[amendments[\"Status\"] == \"Adopted\"]\n",
    "amendments = pd.concat([amendments_adopt, amendments_consol])\n",
    "\n",
    "earmarks_temp_merge = earmarks\n",
    "\n",
    "# Match titles?\n",
    "# earmarks_temp_merge[\"Earmarks Desc Lower\"] = earmarks_temp_merge[\"Earmark Description\"].str.lower()\n",
    "# amendments[\"Earmarks Desc Lower\"] = amendments[\"Title\"].str.lower()\n",
    "#\n",
    "# amendments = amendments.rename(columns={\"Title\":\"Earmarks Desc Lower\"}, errors=\"raise\")\n",
    "\n",
    "def get_best_match(x):\n",
    "    matches = difflib.get_close_matches(x, amendments['Title'], cutoff=0.5)\n",
    "    if len(matches) == 0:\n",
    "        return pd.NA\n",
    "    return matches[0]\n",
    "\n",
    "earmarks_temp_merge['amdt_match'] = earmarks_temp_merge['Earmark Description']\n",
    "earmarks_temp_merge['amdt_match'].apply(lambda x: get_best_match(x))\n",
    "\n",
    "# print(amendments.columns, \"\\n\",  earmarks_temp_merge.columns)\n",
    "\n",
    "earmarks_amdts = earmarks_temp_merge.merge(amendments, left_on=\"amdt_match\", right_on=\"Title\")\n",
    "# earmarks_amdts.drop(\"Earmark Desc Lower\")\n",
    "\n",
    "earmarks_amdts.to_csv(path_or_buf=\"out/amendments_to_legis.csv\")\n",
    "earmarks_amdts.to_excel(\"out/amendments_to_legis.xlsx\")\n",
    "print(len(earmarks_amdts))\n",
    "earmarks.drop(\"amdt_match\")\n",
    "# earmarks_amdts"
   ],
   "metadata": {
    "collapsed": false,
    "pycharm": {
     "name": "#%%\n"
    }
   }
  },
  {
   "cell_type": "code",
   "execution_count": null,
   "outputs": [],
   "source": [
    "# Investigate a certain senator?\n",
    "\n",
    "legis = \"Oliveira, Jacob R. (HOU)\"\n",
    "earmarks_amdts[earmarks_amdts[\"Sponsor\"] == legis]\n",
    "# amendments[amendments[\"Sponsor\"] == legis]"
   ],
   "metadata": {
    "collapsed": false,
    "pycharm": {
     "name": "#%%\n"
    }
   }
  },
  {
   "cell_type": "markdown",
   "source": [
    "# Category Statistics\n",
    "\n",
    "Below, individual category statistics are calculated, like the percentage of money contributed to a certain category, the amount, etc.\n",
    "Note that these altogether will not add up to 100%, since many categories overlap between projects."
   ],
   "metadata": {
    "collapsed": false,
    "pycharm": {
     "name": "#%% md\n"
    }
   }
  },
  {
   "cell_type": "code",
   "execution_count": null,
   "outputs": [],
   "source": [
    "# Categories\n",
    "\n",
    "# Slow matching process, but it's necessary\n",
    "def sum_category(category, df):\n",
    "    total = 0\n",
    "    for i, row in df.iterrows():\n",
    "        if category in row[\"Categories\"]:\n",
    "            total += row[\"Amount\"]\n",
    "    return total\n",
    "\n",
    "def count_category(category, df):\n",
    "    count = 0\n",
    "    for i, row in df.iterrows():\n",
    "        if category in row[\"Categories\"]:\n",
    "            count += 1\n",
    "    return count\n",
    "\n",
    "def max_category(category, df, index_filter=None):\n",
    "    if index_filter is None:\n",
    "        index_filter = []\n",
    "    total = 0\n",
    "    earmark = \"\"\n",
    "    location = \"\"\n",
    "    index = -1\n",
    "    for i, row in df.iterrows():\n",
    "        if i in index_filter:\n",
    "            continue\n",
    "        if category in row[\"Categories\"] and row[\"Amount\"] > total:\n",
    "            total = row[\"Amount\"]\n",
    "            earmark = row[\"Earmark Description\"]\n",
    "            location = row[\"Location\"]\n",
    "            index = i\n",
    "    return total, earmark, index\n",
    "\n",
    "total_dist = earmarks[\"Amount\"].sum()\n",
    "category_stats = pd.DataFrame({\"keyword\":[], \"count\":[], \"pct_of_earmarks\":[], \"amount\":[], \"pct_of_total\":[], \"average\":[], \"max\":[], \"max_project\": [], \"max_project_index\":[]})\n",
    "\n",
    "for c in categories:\n",
    "    sum_cat = sum_category(c, earmarks)\n",
    "    count = count_category(c, earmarks)\n",
    "    average = sum_cat / count\n",
    "    # You can remove the index filter, but this just specifically removes projects that clog the \"Max Project\" stuff like the MBTA and other things in this example, you can totally add more indices if they give you headaches in the data\n",
    "    max_num, max_earmark, max_index = max_category(c, earmarks)\n",
    "    category_stats.loc[len(category_stats)] = [c, count, count/len(earmarks), sum_cat, sum_cat/total_dist, average, max_num, max_earmark, max_index]\n",
    "\n",
    "category_stats.sort_values(by=['amount'], ascending=False)"
   ],
   "metadata": {
    "collapsed": false,
    "pycharm": {
     "name": "#%%\n"
    }
   }
  },
  {
   "cell_type": "code",
   "execution_count": 37,
   "outputs": [
    {
     "data": {
      "text/plain": "     Unnamed: 0                                Earmark Description  \\\n0             0  54th Massachusetts Reenactors and Historical S...   \n1             1                 A Street Pier Boat Ramp Rebuilding   \n2             2                   Abigail Adams Historical Society   \n3             3                Abington Housing Authority Upgrades   \n4             4                      Abington Utility Task Vehicle   \n..          ...                                                ...   \n858         858                       Wrentham Public Water Supply   \n859         859               Youth Community Center in Georgetown   \n860         860                      Youth Development in Lawrence   \n861         861                                       YWCA Funding   \n862         862                   Zeiterion Performing Arts Center   \n\n        Location   Amount                         Administering State Agency  \\\n0         Boston    25000          MMP - Massachusetts Marketing Partnership   \n1           Hull   150000    DCR - Department Of Conservation And Recreation   \n2       Weymouth    25000  ANF - Executive Office For Administration And ...   \n3       Abington    85000   DHCD - Dept Of Housing And Community Development   \n4       Abington    28000     HED - Executive Office Of Economic Development   \n..           ...      ...                                                ...   \n858     Wrentham   150000       DEP - Department Of Environmental Protection   \n859   Georgetown    25000     HED - Executive Office Of Economic Development   \n860     Lawrence   200000  LWD - Executive Office Of Labor And Workforce ...   \n861    Cambridge  4500000     HED - Executive Office Of Economic Development   \n862  New Bedford   200000          MMP - Massachusetts Marketing Partnership   \n\n          State Agency Contact  Account Number  \\\n0      Phyllis.cahaly@mass.gov        70021530   \n1     max.j.tassinari@mass.gov        15992031   \n2        daniel.shark@mass.gov        15992058   \n3          alain.fabo@mass.gov        70049318   \n4      rory.c.ohanlon@mass.gov        15992043   \n..                         ...             ...   \n858    steven.mccurdy@mass.gov        20000015   \n859    rory.c.ohanlon@mass.gov        70100013   \n860  sheila.l.tunney2@mass.gov        70100013   \n861    rory.c.ohanlon@mass.gov        15992047   \n862    Phyllis.cahaly@mass.gov        15992043   \n\n                                      Earmark Language Agency  \\\n0    provided further that not less than $25,000 sh...    MMP   \n1    provided further, that not less than $150,000 ...    DCR   \n2    provided further, that not less than $25,000 s...    ANF   \n3    provided further, that not less than $85,000 s...    DHC   \n4    provided further, that not less than $28,000 s...    HED   \n..                                                 ...    ...   \n858  provided further, that not less than $150,000 ...    DEP   \n859  provided further, that not less than $25,000 s...    HED   \n860  provided further, that not less than $200,000 ...    LWD   \n861  and provided further, that not less than $4,50...    HED   \n862  provided further, that not less than $200,000 ...    MMP   \n\n                                            Categories  ...  Recreation  \\\n0                                           Historical  ...       False   \n1                Recreation, Construction, Maintenance  ...        True   \n2                                           Historical  ...       False   \n3                                 Housing, Maintenance  ...       False   \n4                                            Transport  ...       False   \n..                                                 ...  ...         ...   \n858                              Environment, Research  ...       False   \n859                     Youth Programs, Human Services  ...       False   \n860                                     Youth Programs  ...       False   \n861  Economic, Maintenance, Human Services, Equalit...  ...       False   \n862                                               Arts  ...       False   \n\n     Rehabilitation  Religious  Transport  Technology  Youth Programs  \\\n0             False      False      False       False           False   \n1             False      False      False       False           False   \n2             False      False      False       False           False   \n3             False      False      False       False           False   \n4             False      False       True       False           False   \n..              ...        ...        ...         ...             ...   \n858           False      False      False       False           False   \n859           False      False      False       False            True   \n860           False      False      False       False            True   \n861           False      False      False       False           False   \n862           False      False      False       False           False   \n\n     Accessibility  Maintenance  Research  \\\n0            False        False     False   \n1            False         True     False   \n2            False        False     False   \n3            False         True     False   \n4            False        False     False   \n..             ...          ...       ...   \n858          False        False      True   \n859          False        False     False   \n860          False        False     False   \n861          False         True     False   \n862          False        False     False   \n\n                                            amdt_match  \n0    54th Massachusetts Reenactors and Historical S...  \n1                   A Street Pier Boat Ramp Rebuilding  \n2                     Abigail Adams Historical Society  \n3                  Abington Housing Authority Upgrades  \n4                        Abington Utility Task Vehicle  \n..                                                 ...  \n858                       Wrentham Public Water Supply  \n859               Youth Community Center in Georgetown  \n860                      Youth Development in Lawrence  \n861                                       YWCA Funding  \n862                   Zeiterion Performing Arts Center  \n\n[863 rows x 35 columns]",
      "text/html": "<div>\n<style scoped>\n    .dataframe tbody tr th:only-of-type {\n        vertical-align: middle;\n    }\n\n    .dataframe tbody tr th {\n        vertical-align: top;\n    }\n\n    .dataframe thead th {\n        text-align: right;\n    }\n</style>\n<table border=\"1\" class=\"dataframe\">\n  <thead>\n    <tr style=\"text-align: right;\">\n      <th></th>\n      <th>Unnamed: 0</th>\n      <th>Earmark Description</th>\n      <th>Location</th>\n      <th>Amount</th>\n      <th>Administering State Agency</th>\n      <th>State Agency Contact</th>\n      <th>Account Number</th>\n      <th>Earmark Language</th>\n      <th>Agency</th>\n      <th>Categories</th>\n      <th>...</th>\n      <th>Recreation</th>\n      <th>Rehabilitation</th>\n      <th>Religious</th>\n      <th>Transport</th>\n      <th>Technology</th>\n      <th>Youth Programs</th>\n      <th>Accessibility</th>\n      <th>Maintenance</th>\n      <th>Research</th>\n      <th>amdt_match</th>\n    </tr>\n  </thead>\n  <tbody>\n    <tr>\n      <th>0</th>\n      <td>0</td>\n      <td>54th Massachusetts Reenactors and Historical S...</td>\n      <td>Boston</td>\n      <td>25000</td>\n      <td>MMP - Massachusetts Marketing Partnership</td>\n      <td>Phyllis.cahaly@mass.gov</td>\n      <td>70021530</td>\n      <td>provided further that not less than $25,000 sh...</td>\n      <td>MMP</td>\n      <td>Historical</td>\n      <td>...</td>\n      <td>False</td>\n      <td>False</td>\n      <td>False</td>\n      <td>False</td>\n      <td>False</td>\n      <td>False</td>\n      <td>False</td>\n      <td>False</td>\n      <td>False</td>\n      <td>54th Massachusetts Reenactors and Historical S...</td>\n    </tr>\n    <tr>\n      <th>1</th>\n      <td>1</td>\n      <td>A Street Pier Boat Ramp Rebuilding</td>\n      <td>Hull</td>\n      <td>150000</td>\n      <td>DCR - Department Of Conservation And Recreation</td>\n      <td>max.j.tassinari@mass.gov</td>\n      <td>15992031</td>\n      <td>provided further, that not less than $150,000 ...</td>\n      <td>DCR</td>\n      <td>Recreation, Construction, Maintenance</td>\n      <td>...</td>\n      <td>True</td>\n      <td>False</td>\n      <td>False</td>\n      <td>False</td>\n      <td>False</td>\n      <td>False</td>\n      <td>False</td>\n      <td>True</td>\n      <td>False</td>\n      <td>A Street Pier Boat Ramp Rebuilding</td>\n    </tr>\n    <tr>\n      <th>2</th>\n      <td>2</td>\n      <td>Abigail Adams Historical Society</td>\n      <td>Weymouth</td>\n      <td>25000</td>\n      <td>ANF - Executive Office For Administration And ...</td>\n      <td>daniel.shark@mass.gov</td>\n      <td>15992058</td>\n      <td>provided further, that not less than $25,000 s...</td>\n      <td>ANF</td>\n      <td>Historical</td>\n      <td>...</td>\n      <td>False</td>\n      <td>False</td>\n      <td>False</td>\n      <td>False</td>\n      <td>False</td>\n      <td>False</td>\n      <td>False</td>\n      <td>False</td>\n      <td>False</td>\n      <td>Abigail Adams Historical Society</td>\n    </tr>\n    <tr>\n      <th>3</th>\n      <td>3</td>\n      <td>Abington Housing Authority Upgrades</td>\n      <td>Abington</td>\n      <td>85000</td>\n      <td>DHCD - Dept Of Housing And Community Development</td>\n      <td>alain.fabo@mass.gov</td>\n      <td>70049318</td>\n      <td>provided further, that not less than $85,000 s...</td>\n      <td>DHC</td>\n      <td>Housing, Maintenance</td>\n      <td>...</td>\n      <td>False</td>\n      <td>False</td>\n      <td>False</td>\n      <td>False</td>\n      <td>False</td>\n      <td>False</td>\n      <td>False</td>\n      <td>True</td>\n      <td>False</td>\n      <td>Abington Housing Authority Upgrades</td>\n    </tr>\n    <tr>\n      <th>4</th>\n      <td>4</td>\n      <td>Abington Utility Task Vehicle</td>\n      <td>Abington</td>\n      <td>28000</td>\n      <td>HED - Executive Office Of Economic Development</td>\n      <td>rory.c.ohanlon@mass.gov</td>\n      <td>15992043</td>\n      <td>provided further, that not less than $28,000 s...</td>\n      <td>HED</td>\n      <td>Transport</td>\n      <td>...</td>\n      <td>False</td>\n      <td>False</td>\n      <td>False</td>\n      <td>True</td>\n      <td>False</td>\n      <td>False</td>\n      <td>False</td>\n      <td>False</td>\n      <td>False</td>\n      <td>Abington Utility Task Vehicle</td>\n    </tr>\n    <tr>\n      <th>...</th>\n      <td>...</td>\n      <td>...</td>\n      <td>...</td>\n      <td>...</td>\n      <td>...</td>\n      <td>...</td>\n      <td>...</td>\n      <td>...</td>\n      <td>...</td>\n      <td>...</td>\n      <td>...</td>\n      <td>...</td>\n      <td>...</td>\n      <td>...</td>\n      <td>...</td>\n      <td>...</td>\n      <td>...</td>\n      <td>...</td>\n      <td>...</td>\n      <td>...</td>\n      <td>...</td>\n    </tr>\n    <tr>\n      <th>858</th>\n      <td>858</td>\n      <td>Wrentham Public Water Supply</td>\n      <td>Wrentham</td>\n      <td>150000</td>\n      <td>DEP - Department Of Environmental Protection</td>\n      <td>steven.mccurdy@mass.gov</td>\n      <td>20000015</td>\n      <td>provided further, that not less than $150,000 ...</td>\n      <td>DEP</td>\n      <td>Environment, Research</td>\n      <td>...</td>\n      <td>False</td>\n      <td>False</td>\n      <td>False</td>\n      <td>False</td>\n      <td>False</td>\n      <td>False</td>\n      <td>False</td>\n      <td>False</td>\n      <td>True</td>\n      <td>Wrentham Public Water Supply</td>\n    </tr>\n    <tr>\n      <th>859</th>\n      <td>859</td>\n      <td>Youth Community Center in Georgetown</td>\n      <td>Georgetown</td>\n      <td>25000</td>\n      <td>HED - Executive Office Of Economic Development</td>\n      <td>rory.c.ohanlon@mass.gov</td>\n      <td>70100013</td>\n      <td>provided further, that not less than $25,000 s...</td>\n      <td>HED</td>\n      <td>Youth Programs, Human Services</td>\n      <td>...</td>\n      <td>False</td>\n      <td>False</td>\n      <td>False</td>\n      <td>False</td>\n      <td>False</td>\n      <td>True</td>\n      <td>False</td>\n      <td>False</td>\n      <td>False</td>\n      <td>Youth Community Center in Georgetown</td>\n    </tr>\n    <tr>\n      <th>860</th>\n      <td>860</td>\n      <td>Youth Development in Lawrence</td>\n      <td>Lawrence</td>\n      <td>200000</td>\n      <td>LWD - Executive Office Of Labor And Workforce ...</td>\n      <td>sheila.l.tunney2@mass.gov</td>\n      <td>70100013</td>\n      <td>provided further, that not less than $200,000 ...</td>\n      <td>LWD</td>\n      <td>Youth Programs</td>\n      <td>...</td>\n      <td>False</td>\n      <td>False</td>\n      <td>False</td>\n      <td>False</td>\n      <td>False</td>\n      <td>True</td>\n      <td>False</td>\n      <td>False</td>\n      <td>False</td>\n      <td>Youth Development in Lawrence</td>\n    </tr>\n    <tr>\n      <th>861</th>\n      <td>861</td>\n      <td>YWCA Funding</td>\n      <td>Cambridge</td>\n      <td>4500000</td>\n      <td>HED - Executive Office Of Economic Development</td>\n      <td>rory.c.ohanlon@mass.gov</td>\n      <td>15992047</td>\n      <td>and provided further, that not less than $4,50...</td>\n      <td>HED</td>\n      <td>Economic, Maintenance, Human Services, Equalit...</td>\n      <td>...</td>\n      <td>False</td>\n      <td>False</td>\n      <td>False</td>\n      <td>False</td>\n      <td>False</td>\n      <td>False</td>\n      <td>False</td>\n      <td>True</td>\n      <td>False</td>\n      <td>YWCA Funding</td>\n    </tr>\n    <tr>\n      <th>862</th>\n      <td>862</td>\n      <td>Zeiterion Performing Arts Center</td>\n      <td>New Bedford</td>\n      <td>200000</td>\n      <td>MMP - Massachusetts Marketing Partnership</td>\n      <td>Phyllis.cahaly@mass.gov</td>\n      <td>15992043</td>\n      <td>provided further, that not less than $200,000 ...</td>\n      <td>MMP</td>\n      <td>Arts</td>\n      <td>...</td>\n      <td>False</td>\n      <td>False</td>\n      <td>False</td>\n      <td>False</td>\n      <td>False</td>\n      <td>False</td>\n      <td>False</td>\n      <td>False</td>\n      <td>False</td>\n      <td>Zeiterion Performing Arts Center</td>\n    </tr>\n  </tbody>\n</table>\n<p>863 rows × 35 columns</p>\n</div>"
     },
     "execution_count": 37,
     "metadata": {},
     "output_type": "execute_result"
    }
   ],
   "source": [
    "# Split categories into individual fields\n",
    "\n",
    "for cat in categories:\n",
    "    earmarks[cat] = earmarks[\"Categories\"].str.contains(cat)\n",
    "\n",
    "earmarks.to_csv(path_or_buf=\"out/earmarks_categories.csv\")\n",
    "earmarks.to_excel(\"out/earmarks_categories.xlsx\")\n",
    "earmarks"
   ],
   "metadata": {
    "collapsed": false,
    "pycharm": {
     "name": "#%%\n"
    }
   }
  },
  {
   "cell_type": "code",
   "execution_count": null,
   "outputs": [],
   "source": [
    "# Housing - Gross Rent according to the American Community Survey\n",
    "\n",
    "rent_by_income = pd.read_csv(\"data/ma_census/acs_rent/rent.csv\", header=1)\n",
    "\n",
    "rent_by_income_headers = pd.read_csv(\"data/ma_census/acs_rent/headers.csv\")\n",
    "# new_headers = dict(zip(rent_by_income_headers[\"GEO_ID\"], rent_by_income_headers[\"id\"]))\n",
    "\n",
    "rent_by_income[\"Geographic Area Name\"] = rent_by_income[\"Geographic Area Name\"].replace(new_names)\n",
    "rent_by_income.to_csv(path_or_buf=\"out/rent_fixed_towns.csv\")\n",
    "rent_by_income.to_excel(\"out/rent_fixed_towns.xlsx\")\n",
    "\n",
    "mortgage = pd.read_csv(\"data/ma_census/acs_mortgage/mortgages.csv\", header=1)\n",
    "mortgage[\"Geographic Area Name\"] = rent_by_income[\"Geographic Area Name\"].replace(new_names)\n",
    "cols = list(mortgage) # Fix row order\n",
    "cols = [cols[-1]] + cols[:-1]\n",
    "mortgage = mortgage[cols]\n",
    "mortgage = mortgage.loc[1:]\n",
    "mortgage.to_csv(path_or_buf=\"out/mortgage_fixed_towns.csv\")\n",
    "mortgage.to_excel(\"out/mortgage_fixed_towns.xlsx\")\n",
    "\n",
    "# Fix towns\n",
    "rent_by_income = rent_by_income.replace(new_names)\n",
    "income_on_housing = pd.DataFrame()\n",
    "\n",
    "# [ for k in range(rent_by_income)]"
   ],
   "metadata": {
    "collapsed": false,
    "pycharm": {
     "name": "#%%\n"
    }
   }
  },
  {
   "cell_type": "code",
   "execution_count": null,
   "outputs": [],
   "source": [
    "earmarks = pd.read_csv(\"out/earmarks_categories.csv\")\n",
    "earmarks.loc[earmarks[\"Arts\"] == True]\n",
    "# amendments.loc[amendments[\"Sponsor\" == \"Barrett, \"]]"
   ],
   "metadata": {
    "collapsed": false,
    "pycharm": {
     "name": "#%%\n"
    }
   }
  },
  {
   "cell_type": "code",
   "execution_count": 80,
   "outputs": [
    {
     "data": {
      "text/plain": "                City  Health Amount  Health Projects  Housing Amount  \\\n0         Barnstable         160000                2         2500000   \n1             Bourne              0                0               0   \n2           Brewster              0                0               0   \n3            Chatham              0                0               0   \n4             Dennis              0                0               0   \n..               ...            ...              ...             ...   \n346    West Boylston              0                0               0   \n347  West Brookfield              0                0               0   \n348      Westminster         100000                1               0   \n349       Winchendon              0                0               0   \n350        Worcester         450000                1          525000   \n\n     Housing Projects  Food Amount  Food Projects  Arts Amount  Arts Projects  \\\n0                   5            0              0       400000              1   \n1                   0            0              0            0              0   \n2                   0            0              0            0              0   \n3                   0            0              0            0              0   \n4                   0            0              0            0              0   \n..                ...          ...            ...          ...            ...   \n346                 0            0              0            0              0   \n347                 0            0              0            0              0   \n348                 0            0              0            0              0   \n349                 0            0              0            0              0   \n350                 4      1500000              2       725000              3   \n\n     Construction Amount  ...  Technology Amount  Technology Projects  \\\n0                 400000  ...            1060000                    4   \n1                      0  ...                  0                    0   \n2                      0  ...                  0                    0   \n3                      0  ...                  0                    0   \n4                      0  ...                  0                    0   \n..                   ...  ...                ...                  ...   \n346               130000  ...                  0                    0   \n347                    0  ...                  0                    0   \n348                    0  ...                  0                    0   \n349                    0  ...                  0                    0   \n350              1325000  ...              50000                    1   \n\n     Youth Programs Amount  Youth Programs Projects  Accessibility Amount  \\\n0                   120000                        2                     0   \n1                        0                        0                     0   \n2                        0                        0                     0   \n3                        0                        0                     0   \n4                        0                        0                     0   \n..                     ...                      ...                   ...   \n346                      0                        0                     0   \n347                      0                        0                     0   \n348                      0                        0                     0   \n349                      0                        0                     0   \n350                 550000                        2                     0   \n\n     Accessibility Projects  Maintenance Amount  Maintenance Projects  \\\n0                         0              220000                     3   \n1                         0              240000                     3   \n2                         0                   0                     0   \n3                         0                   0                     0   \n4                         0                   0                     0   \n..                      ...                 ...                   ...   \n346                       0                   0                     0   \n347                       0                   0                     0   \n348                       0               50000                     1   \n349                       0              100000                     1   \n350                       0             1525000                     5   \n\n     Research Amount  Research Projects  \n0             850000                  3  \n1                  0                  0  \n2                  0                  0  \n3                  0                  0  \n4                  0                  0  \n..               ...                ...  \n346           130000                  1  \n347                0                  0  \n348                0                  0  \n349                0                  0  \n350                0                  0  \n\n[351 rows x 49 columns]",
      "text/html": "<div>\n<style scoped>\n    .dataframe tbody tr th:only-of-type {\n        vertical-align: middle;\n    }\n\n    .dataframe tbody tr th {\n        vertical-align: top;\n    }\n\n    .dataframe thead th {\n        text-align: right;\n    }\n</style>\n<table border=\"1\" class=\"dataframe\">\n  <thead>\n    <tr style=\"text-align: right;\">\n      <th></th>\n      <th>City</th>\n      <th>Health Amount</th>\n      <th>Health Projects</th>\n      <th>Housing Amount</th>\n      <th>Housing Projects</th>\n      <th>Food Amount</th>\n      <th>Food Projects</th>\n      <th>Arts Amount</th>\n      <th>Arts Projects</th>\n      <th>Construction Amount</th>\n      <th>...</th>\n      <th>Technology Amount</th>\n      <th>Technology Projects</th>\n      <th>Youth Programs Amount</th>\n      <th>Youth Programs Projects</th>\n      <th>Accessibility Amount</th>\n      <th>Accessibility Projects</th>\n      <th>Maintenance Amount</th>\n      <th>Maintenance Projects</th>\n      <th>Research Amount</th>\n      <th>Research Projects</th>\n    </tr>\n  </thead>\n  <tbody>\n    <tr>\n      <th>0</th>\n      <td>Barnstable</td>\n      <td>160000</td>\n      <td>2</td>\n      <td>2500000</td>\n      <td>5</td>\n      <td>0</td>\n      <td>0</td>\n      <td>400000</td>\n      <td>1</td>\n      <td>400000</td>\n      <td>...</td>\n      <td>1060000</td>\n      <td>4</td>\n      <td>120000</td>\n      <td>2</td>\n      <td>0</td>\n      <td>0</td>\n      <td>220000</td>\n      <td>3</td>\n      <td>850000</td>\n      <td>3</td>\n    </tr>\n    <tr>\n      <th>1</th>\n      <td>Bourne</td>\n      <td>0</td>\n      <td>0</td>\n      <td>0</td>\n      <td>0</td>\n      <td>0</td>\n      <td>0</td>\n      <td>0</td>\n      <td>0</td>\n      <td>0</td>\n      <td>...</td>\n      <td>0</td>\n      <td>0</td>\n      <td>0</td>\n      <td>0</td>\n      <td>0</td>\n      <td>0</td>\n      <td>240000</td>\n      <td>3</td>\n      <td>0</td>\n      <td>0</td>\n    </tr>\n    <tr>\n      <th>2</th>\n      <td>Brewster</td>\n      <td>0</td>\n      <td>0</td>\n      <td>0</td>\n      <td>0</td>\n      <td>0</td>\n      <td>0</td>\n      <td>0</td>\n      <td>0</td>\n      <td>0</td>\n      <td>...</td>\n      <td>0</td>\n      <td>0</td>\n      <td>0</td>\n      <td>0</td>\n      <td>0</td>\n      <td>0</td>\n      <td>0</td>\n      <td>0</td>\n      <td>0</td>\n      <td>0</td>\n    </tr>\n    <tr>\n      <th>3</th>\n      <td>Chatham</td>\n      <td>0</td>\n      <td>0</td>\n      <td>0</td>\n      <td>0</td>\n      <td>0</td>\n      <td>0</td>\n      <td>0</td>\n      <td>0</td>\n      <td>0</td>\n      <td>...</td>\n      <td>0</td>\n      <td>0</td>\n      <td>0</td>\n      <td>0</td>\n      <td>0</td>\n      <td>0</td>\n      <td>0</td>\n      <td>0</td>\n      <td>0</td>\n      <td>0</td>\n    </tr>\n    <tr>\n      <th>4</th>\n      <td>Dennis</td>\n      <td>0</td>\n      <td>0</td>\n      <td>0</td>\n      <td>0</td>\n      <td>0</td>\n      <td>0</td>\n      <td>0</td>\n      <td>0</td>\n      <td>0</td>\n      <td>...</td>\n      <td>0</td>\n      <td>0</td>\n      <td>0</td>\n      <td>0</td>\n      <td>0</td>\n      <td>0</td>\n      <td>0</td>\n      <td>0</td>\n      <td>0</td>\n      <td>0</td>\n    </tr>\n    <tr>\n      <th>...</th>\n      <td>...</td>\n      <td>...</td>\n      <td>...</td>\n      <td>...</td>\n      <td>...</td>\n      <td>...</td>\n      <td>...</td>\n      <td>...</td>\n      <td>...</td>\n      <td>...</td>\n      <td>...</td>\n      <td>...</td>\n      <td>...</td>\n      <td>...</td>\n      <td>...</td>\n      <td>...</td>\n      <td>...</td>\n      <td>...</td>\n      <td>...</td>\n      <td>...</td>\n      <td>...</td>\n    </tr>\n    <tr>\n      <th>346</th>\n      <td>West Boylston</td>\n      <td>0</td>\n      <td>0</td>\n      <td>0</td>\n      <td>0</td>\n      <td>0</td>\n      <td>0</td>\n      <td>0</td>\n      <td>0</td>\n      <td>130000</td>\n      <td>...</td>\n      <td>0</td>\n      <td>0</td>\n      <td>0</td>\n      <td>0</td>\n      <td>0</td>\n      <td>0</td>\n      <td>0</td>\n      <td>0</td>\n      <td>130000</td>\n      <td>1</td>\n    </tr>\n    <tr>\n      <th>347</th>\n      <td>West Brookfield</td>\n      <td>0</td>\n      <td>0</td>\n      <td>0</td>\n      <td>0</td>\n      <td>0</td>\n      <td>0</td>\n      <td>0</td>\n      <td>0</td>\n      <td>0</td>\n      <td>...</td>\n      <td>0</td>\n      <td>0</td>\n      <td>0</td>\n      <td>0</td>\n      <td>0</td>\n      <td>0</td>\n      <td>0</td>\n      <td>0</td>\n      <td>0</td>\n      <td>0</td>\n    </tr>\n    <tr>\n      <th>348</th>\n      <td>Westminster</td>\n      <td>100000</td>\n      <td>1</td>\n      <td>0</td>\n      <td>0</td>\n      <td>0</td>\n      <td>0</td>\n      <td>0</td>\n      <td>0</td>\n      <td>0</td>\n      <td>...</td>\n      <td>0</td>\n      <td>0</td>\n      <td>0</td>\n      <td>0</td>\n      <td>0</td>\n      <td>0</td>\n      <td>50000</td>\n      <td>1</td>\n      <td>0</td>\n      <td>0</td>\n    </tr>\n    <tr>\n      <th>349</th>\n      <td>Winchendon</td>\n      <td>0</td>\n      <td>0</td>\n      <td>0</td>\n      <td>0</td>\n      <td>0</td>\n      <td>0</td>\n      <td>0</td>\n      <td>0</td>\n      <td>0</td>\n      <td>...</td>\n      <td>0</td>\n      <td>0</td>\n      <td>0</td>\n      <td>0</td>\n      <td>0</td>\n      <td>0</td>\n      <td>100000</td>\n      <td>1</td>\n      <td>0</td>\n      <td>0</td>\n    </tr>\n    <tr>\n      <th>350</th>\n      <td>Worcester</td>\n      <td>450000</td>\n      <td>1</td>\n      <td>525000</td>\n      <td>4</td>\n      <td>1500000</td>\n      <td>2</td>\n      <td>725000</td>\n      <td>3</td>\n      <td>1325000</td>\n      <td>...</td>\n      <td>50000</td>\n      <td>1</td>\n      <td>550000</td>\n      <td>2</td>\n      <td>0</td>\n      <td>0</td>\n      <td>1525000</td>\n      <td>5</td>\n      <td>0</td>\n      <td>0</td>\n    </tr>\n  </tbody>\n</table>\n<p>351 rows × 49 columns</p>\n</div>"
     },
     "execution_count": 80,
     "metadata": {},
     "output_type": "execute_result"
    }
   ],
   "source": [
    "arts_projects = earmarks.loc[earmarks[\"Arts\"] == True]\n",
    "money_per_town = pd.DataFrame()\n",
    "\n",
    "money_per_town[\"City\"] = population[\"city\"]\n",
    "\n",
    "# print(money_per_town.columns)\n",
    "for cat in categories:\n",
    "    df_cat = earmarks.loc[earmarks[cat] == True]\n",
    "    money_per_town = pd.merge(money_per_town, df_cat.groupby(['Location']).sum()[[\"Amount\", cat]], left_on=\"City\", right_on=\"Location\", how=\"left\")\n",
    "    transform_cols = {\"Amount\": cat + \" Amount\", cat: cat + \" Projects\"}\n",
    "\n",
    "    old_cols = list(transform_cols.keys())\n",
    "    money_per_town = money_per_town.fillna(0)\n",
    "    # print(money_per_town)\n",
    "    for c in old_cols:\n",
    "        money_per_town[c] = money_per_town.loc[:, c].astype(int)\n",
    "\n",
    "    money_per_town = money_per_town.rename(columns=transform_cols)\n",
    "\n",
    "money_per_town.to_csv(path_or_buf=\"out/money_per_project.csv\")\n",
    "money_per_town.to_excel(\"out/money_per_project.xlsx\")\n",
    "money_per_town"
   ],
   "metadata": {
    "collapsed": false,
    "pycharm": {
     "name": "#%%\n"
    }
   }
  },
  {
   "cell_type": "code",
   "execution_count": null,
   "outputs": [],
   "source": [
    "mpc = earmarks[\"Location\"].value_counts().rename_axis(\"Location\").reset_index(name=\"counts\")\n",
    "mpc = pd.merge(mpc, earmarks.groupby(\"Location\").sum()[\"Amount\"], on=\"Location\").sort_values(by=\"Amount\", ascending=False)"
   ],
   "metadata": {
    "collapsed": false,
    "pycharm": {
     "name": "#%%\n"
    }
   }
  }
 ],
 "metadata": {
  "kernelspec": {
   "display_name": "Python 3",
   "language": "python",
   "name": "python3"
  },
  "language_info": {
   "codemirror_mode": {
    "name": "ipython",
    "version": 2
   },
   "file_extension": ".py",
   "mimetype": "text/x-python",
   "name": "python",
   "nbconvert_exporter": "python",
   "pygments_lexer": "ipython2",
   "version": "2.7.6"
  }
 },
 "nbformat": 4,
 "nbformat_minor": 0
}